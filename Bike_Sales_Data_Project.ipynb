{
 "cells": [
  {
   "cell_type": "markdown",
   "metadata": {},
   "source": [
    "### Project\n",
    "\n",
    "# Bike store sales\n"
   ]
  },
  {
   "cell_type": "markdown",
   "metadata": {},
   "source": [
    "![purple-divider](https://user-images.githubusercontent.com/7065401/52071927-c1cd7100-2562-11e9-908a-dde91ba14e59.png)\n",
    "\n",
    "## Hands on! "
   ]
  },
  {
   "cell_type": "code",
   "execution_count": 30,
   "metadata": {},
   "outputs": [],
   "source": [
    "import numpy as np\n",
    "import pandas as pd\n",
    "import matplotlib.pyplot as plt"
   ]
  },
  {
   "cell_type": "code",
   "execution_count": 31,
   "metadata": {},
   "outputs": [
    {
     "name": "stdout",
     "output_type": "stream",
     "text": [
      "<class 'pandas.core.frame.DataFrame'>\n",
      "RangeIndex: 5000 entries, 0 to 4999\n",
      "Data columns (total 16 columns):\n",
      " #   Column            Non-Null Count  Dtype \n",
      "---  ------            --------------  ----- \n",
      " 0   Date              5000 non-null   object\n",
      " 1   Day               5000 non-null   int64 \n",
      " 2   Month             5000 non-null   object\n",
      " 3   Year              5000 non-null   int64 \n",
      " 4   Customer_Age      5000 non-null   int64 \n",
      " 5   Customer_Gender   5000 non-null   object\n",
      " 6   Country           5000 non-null   object\n",
      " 7   State             5000 non-null   object\n",
      " 8   Product_Category  5000 non-null   object\n",
      " 9   Sub_Category      5000 non-null   object\n",
      " 10  Product           5000 non-null   object\n",
      " 11  Order_Quantity    5000 non-null   int64 \n",
      " 12  Unit_Cost         5000 non-null   int64 \n",
      " 13  Unit_Price        5000 non-null   int64 \n",
      " 14  Profit            5000 non-null   int64 \n",
      " 15  Revenue           5000 non-null   int64 \n",
      "dtypes: int64(8), object(8)\n",
      "memory usage: 625.1+ KB\n"
     ]
    }
   ],
   "source": [
    "sales = pd.read_csv('data/sales_data.csv')\n",
    "sales.info()"
   ]
  },
  {
   "cell_type": "markdown",
   "metadata": {},
   "source": [
    "![green-divider](https://user-images.githubusercontent.com/7065401/52071924-c003ad80-2562-11e9-8297-1c6595f8a7ff.png)\n",
    "\n",
    "### First look at our data\n",
    "\n",
    "Analyze what columns we have, what type they are and what data is on them."
   ]
  },
  {
   "cell_type": "code",
   "execution_count": 32,
   "metadata": {},
   "outputs": [
    {
     "data": {
      "text/plain": [
       "(5000, 16)"
      ]
     },
     "execution_count": 32,
     "metadata": {},
     "output_type": "execute_result"
    }
   ],
   "source": [
    "sales.shape"
   ]
  },
  {
   "cell_type": "code",
   "execution_count": 33,
   "metadata": {},
   "outputs": [
    {
     "name": "stdout",
     "output_type": "stream",
     "text": [
      "<class 'pandas.core.frame.DataFrame'>\n",
      "RangeIndex: 5000 entries, 0 to 4999\n",
      "Data columns (total 16 columns):\n",
      " #   Column            Non-Null Count  Dtype \n",
      "---  ------            --------------  ----- \n",
      " 0   Date              5000 non-null   object\n",
      " 1   Day               5000 non-null   int64 \n",
      " 2   Month             5000 non-null   object\n",
      " 3   Year              5000 non-null   int64 \n",
      " 4   Customer_Age      5000 non-null   int64 \n",
      " 5   Customer_Gender   5000 non-null   object\n",
      " 6   Country           5000 non-null   object\n",
      " 7   State             5000 non-null   object\n",
      " 8   Product_Category  5000 non-null   object\n",
      " 9   Sub_Category      5000 non-null   object\n",
      " 10  Product           5000 non-null   object\n",
      " 11  Order_Quantity    5000 non-null   int64 \n",
      " 12  Unit_Cost         5000 non-null   int64 \n",
      " 13  Unit_Price        5000 non-null   int64 \n",
      " 14  Profit            5000 non-null   int64 \n",
      " 15  Revenue           5000 non-null   int64 \n",
      "dtypes: int64(8), object(8)\n",
      "memory usage: 625.1+ KB\n"
     ]
    }
   ],
   "source": [
    "sales.info()"
   ]
  },
  {
   "cell_type": "code",
   "execution_count": 34,
   "metadata": {},
   "outputs": [
    {
     "data": {
      "text/html": [
       "<div><div id=47041a3d-94cf-46f6-8c39-30e85adc0d7f style=\"display:none; background-color:#9D6CFF; color:white; width:200px; height:30px; padding-left:5px; border-radius:4px; flex-direction:row; justify-content:space-around; align-items:center;\" onmouseover=\"this.style.backgroundColor='#BA9BF8'\" onmouseout=\"this.style.backgroundColor='#9D6CFF'\" onclick=\"window.commands?.execute('create-mitosheet-from-dataframe-output');\">See Full Dataframe in Mito</div> <script> if (window.commands.hasCommand('create-mitosheet-from-dataframe-output')) document.getElementById('47041a3d-94cf-46f6-8c39-30e85adc0d7f').style.display = 'flex' </script> <table border=\"1\" class=\"dataframe\">\n",
       "  <thead>\n",
       "    <tr style=\"text-align: right;\">\n",
       "      <th></th>\n",
       "      <th>Date</th>\n",
       "      <th>Day</th>\n",
       "      <th>Month</th>\n",
       "      <th>Year</th>\n",
       "      <th>Customer_Age</th>\n",
       "      <th>Customer_Gender</th>\n",
       "      <th>Country</th>\n",
       "      <th>State</th>\n",
       "      <th>Product_Category</th>\n",
       "      <th>Sub_Category</th>\n",
       "      <th>Product</th>\n",
       "      <th>Order_Quantity</th>\n",
       "      <th>Unit_Cost</th>\n",
       "      <th>Unit_Price</th>\n",
       "      <th>Profit</th>\n",
       "      <th>Revenue</th>\n",
       "    </tr>\n",
       "  </thead>\n",
       "  <tbody>\n",
       "    <tr>\n",
       "      <th>0</th>\n",
       "      <td>2014-03-05</td>\n",
       "      <td>5</td>\n",
       "      <td>March</td>\n",
       "      <td>2014</td>\n",
       "      <td>34</td>\n",
       "      <td>M</td>\n",
       "      <td>United States</td>\n",
       "      <td>California</td>\n",
       "      <td>Accessories</td>\n",
       "      <td>Fenders</td>\n",
       "      <td>Fender Set - Mountain</td>\n",
       "      <td>27</td>\n",
       "      <td>8</td>\n",
       "      <td>22</td>\n",
       "      <td>366</td>\n",
       "      <td>582</td>\n",
       "    </tr>\n",
       "    <tr>\n",
       "      <th>1</th>\n",
       "      <td>2013-08-18</td>\n",
       "      <td>18</td>\n",
       "      <td>August</td>\n",
       "      <td>2013</td>\n",
       "      <td>31</td>\n",
       "      <td>F</td>\n",
       "      <td>Canada</td>\n",
       "      <td>British Columbia</td>\n",
       "      <td>Clothing</td>\n",
       "      <td>Vests</td>\n",
       "      <td>Classic Vest, L</td>\n",
       "      <td>13</td>\n",
       "      <td>24</td>\n",
       "      <td>64</td>\n",
       "      <td>512</td>\n",
       "      <td>824</td>\n",
       "    </tr>\n",
       "    <tr>\n",
       "      <th>2</th>\n",
       "      <td>2014-02-04</td>\n",
       "      <td>4</td>\n",
       "      <td>February</td>\n",
       "      <td>2014</td>\n",
       "      <td>31</td>\n",
       "      <td>F</td>\n",
       "      <td>United States</td>\n",
       "      <td>Washington</td>\n",
       "      <td>Bikes</td>\n",
       "      <td>Touring Bikes</td>\n",
       "      <td>Touring-1000 Yellow, 54</td>\n",
       "      <td>1</td>\n",
       "      <td>1482</td>\n",
       "      <td>2384</td>\n",
       "      <td>378</td>\n",
       "      <td>1860</td>\n",
       "    </tr>\n",
       "    <tr>\n",
       "      <th>3</th>\n",
       "      <td>2013-09-09</td>\n",
       "      <td>9</td>\n",
       "      <td>September</td>\n",
       "      <td>2013</td>\n",
       "      <td>33</td>\n",
       "      <td>M</td>\n",
       "      <td>Australia</td>\n",
       "      <td>Victoria</td>\n",
       "      <td>Accessories</td>\n",
       "      <td>Tires and Tubes</td>\n",
       "      <td>LL Road Tire</td>\n",
       "      <td>25</td>\n",
       "      <td>8</td>\n",
       "      <td>21</td>\n",
       "      <td>215</td>\n",
       "      <td>415</td>\n",
       "    </tr>\n",
       "    <tr>\n",
       "      <th>4</th>\n",
       "      <td>2016-05-16</td>\n",
       "      <td>16</td>\n",
       "      <td>May</td>\n",
       "      <td>2016</td>\n",
       "      <td>35</td>\n",
       "      <td>F</td>\n",
       "      <td>United States</td>\n",
       "      <td>Washington</td>\n",
       "      <td>Accessories</td>\n",
       "      <td>Tires and Tubes</td>\n",
       "      <td>Mountain Tire Tube</td>\n",
       "      <td>28</td>\n",
       "      <td>2</td>\n",
       "      <td>5</td>\n",
       "      <td>53</td>\n",
       "      <td>109</td>\n",
       "    </tr>\n",
       "  </tbody>\n",
       "</table></div>"
      ],
      "text/plain": [
       "         Date  Day      Month  Year  Customer_Age Customer_Gender  \\\n",
       "0  2014-03-05    5      March  2014            34               M   \n",
       "1  2013-08-18   18     August  2013            31               F   \n",
       "2  2014-02-04    4   February  2014            31               F   \n",
       "3  2013-09-09    9  September  2013            33               M   \n",
       "4  2016-05-16   16        May  2016            35               F   \n",
       "\n",
       "         Country             State Product_Category     Sub_Category  \\\n",
       "0  United States        California      Accessories          Fenders   \n",
       "1         Canada  British Columbia         Clothing            Vests   \n",
       "2  United States        Washington            Bikes    Touring Bikes   \n",
       "3      Australia          Victoria      Accessories  Tires and Tubes   \n",
       "4  United States        Washington      Accessories  Tires and Tubes   \n",
       "\n",
       "                   Product  Order_Quantity  Unit_Cost  Unit_Price  Profit  \\\n",
       "0    Fender Set - Mountain              27          8          22     366   \n",
       "1          Classic Vest, L              13         24          64     512   \n",
       "2  Touring-1000 Yellow, 54               1       1482        2384     378   \n",
       "3             LL Road Tire              25          8          21     215   \n",
       "4       Mountain Tire Tube              28          2           5      53   \n",
       "\n",
       "   Revenue  \n",
       "0      582  \n",
       "1      824  \n",
       "2     1860  \n",
       "3      415  \n",
       "4      109  "
      ]
     },
     "execution_count": 34,
     "metadata": {},
     "output_type": "execute_result"
    }
   ],
   "source": [
    "sales.head()"
   ]
  },
  {
   "cell_type": "code",
   "execution_count": 35,
   "metadata": {},
   "outputs": [
    {
     "data": {
      "text/html": [
       "<div><div id=85bfa83f-d038-4a9e-8a0c-4ed5a8a37466 style=\"display:none; background-color:#9D6CFF; color:white; width:200px; height:30px; padding-left:5px; border-radius:4px; flex-direction:row; justify-content:space-around; align-items:center;\" onmouseover=\"this.style.backgroundColor='#BA9BF8'\" onmouseout=\"this.style.backgroundColor='#9D6CFF'\" onclick=\"window.commands?.execute('create-mitosheet-from-dataframe-output');\">See Full Dataframe in Mito</div> <script> if (window.commands.hasCommand('create-mitosheet-from-dataframe-output')) document.getElementById('85bfa83f-d038-4a9e-8a0c-4ed5a8a37466').style.display = 'flex' </script> <table border=\"1\" class=\"dataframe\">\n",
       "  <thead>\n",
       "    <tr style=\"text-align: right;\">\n",
       "      <th></th>\n",
       "      <th>Date</th>\n",
       "      <th>Day</th>\n",
       "      <th>Month</th>\n",
       "      <th>Year</th>\n",
       "      <th>Customer_Age</th>\n",
       "      <th>Customer_Gender</th>\n",
       "      <th>Country</th>\n",
       "      <th>State</th>\n",
       "      <th>Product_Category</th>\n",
       "      <th>Sub_Category</th>\n",
       "      <th>Product</th>\n",
       "      <th>Order_Quantity</th>\n",
       "      <th>Unit_Cost</th>\n",
       "      <th>Unit_Price</th>\n",
       "      <th>Profit</th>\n",
       "      <th>Revenue</th>\n",
       "    </tr>\n",
       "  </thead>\n",
       "  <tbody>\n",
       "    <tr>\n",
       "      <th>4995</th>\n",
       "      <td>2014-01-27</td>\n",
       "      <td>27</td>\n",
       "      <td>January</td>\n",
       "      <td>2014</td>\n",
       "      <td>34</td>\n",
       "      <td>M</td>\n",
       "      <td>United States</td>\n",
       "      <td>California</td>\n",
       "      <td>Accessories</td>\n",
       "      <td>Bottles and Cages</td>\n",
       "      <td>Water Bottle - 30 oz.</td>\n",
       "      <td>20</td>\n",
       "      <td>2</td>\n",
       "      <td>5</td>\n",
       "      <td>58</td>\n",
       "      <td>98</td>\n",
       "    </tr>\n",
       "    <tr>\n",
       "      <th>4996</th>\n",
       "      <td>2014-07-14</td>\n",
       "      <td>14</td>\n",
       "      <td>July</td>\n",
       "      <td>2014</td>\n",
       "      <td>17</td>\n",
       "      <td>M</td>\n",
       "      <td>France</td>\n",
       "      <td>Val d'Oise</td>\n",
       "      <td>Clothing</td>\n",
       "      <td>Caps</td>\n",
       "      <td>AWC Logo Cap</td>\n",
       "      <td>12</td>\n",
       "      <td>7</td>\n",
       "      <td>9</td>\n",
       "      <td>1</td>\n",
       "      <td>85</td>\n",
       "    </tr>\n",
       "    <tr>\n",
       "      <th>4997</th>\n",
       "      <td>2013-12-30</td>\n",
       "      <td>30</td>\n",
       "      <td>December</td>\n",
       "      <td>2013</td>\n",
       "      <td>25</td>\n",
       "      <td>F</td>\n",
       "      <td>Canada</td>\n",
       "      <td>British Columbia</td>\n",
       "      <td>Accessories</td>\n",
       "      <td>Helmets</td>\n",
       "      <td>Sport-100 Helmet, Blue</td>\n",
       "      <td>20</td>\n",
       "      <td>13</td>\n",
       "      <td>35</td>\n",
       "      <td>433</td>\n",
       "      <td>693</td>\n",
       "    </tr>\n",
       "    <tr>\n",
       "      <th>4998</th>\n",
       "      <td>2016-01-06</td>\n",
       "      <td>6</td>\n",
       "      <td>January</td>\n",
       "      <td>2016</td>\n",
       "      <td>57</td>\n",
       "      <td>M</td>\n",
       "      <td>Canada</td>\n",
       "      <td>British Columbia</td>\n",
       "      <td>Accessories</td>\n",
       "      <td>Tires and Tubes</td>\n",
       "      <td>Patch Kit/8 Patches</td>\n",
       "      <td>16</td>\n",
       "      <td>1</td>\n",
       "      <td>2</td>\n",
       "      <td>16</td>\n",
       "      <td>32</td>\n",
       "    </tr>\n",
       "    <tr>\n",
       "      <th>4999</th>\n",
       "      <td>2014-03-09</td>\n",
       "      <td>9</td>\n",
       "      <td>March</td>\n",
       "      <td>2014</td>\n",
       "      <td>50</td>\n",
       "      <td>F</td>\n",
       "      <td>Australia</td>\n",
       "      <td>Queensland</td>\n",
       "      <td>Accessories</td>\n",
       "      <td>Tires and Tubes</td>\n",
       "      <td>Patch Kit/8 Patches</td>\n",
       "      <td>15</td>\n",
       "      <td>1</td>\n",
       "      <td>2</td>\n",
       "      <td>10</td>\n",
       "      <td>25</td>\n",
       "    </tr>\n",
       "  </tbody>\n",
       "</table></div>"
      ],
      "text/plain": [
       "            Date  Day     Month  Year  Customer_Age Customer_Gender  \\\n",
       "4995  2014-01-27   27   January  2014            34               M   \n",
       "4996  2014-07-14   14      July  2014            17               M   \n",
       "4997  2013-12-30   30  December  2013            25               F   \n",
       "4998  2016-01-06    6   January  2016            57               M   \n",
       "4999  2014-03-09    9     March  2014            50               F   \n",
       "\n",
       "            Country             State Product_Category       Sub_Category  \\\n",
       "4995  United States        California      Accessories  Bottles and Cages   \n",
       "4996         France        Val d'Oise         Clothing               Caps   \n",
       "4997         Canada  British Columbia      Accessories            Helmets   \n",
       "4998         Canada  British Columbia      Accessories    Tires and Tubes   \n",
       "4999      Australia        Queensland      Accessories    Tires and Tubes   \n",
       "\n",
       "                     Product  Order_Quantity  Unit_Cost  Unit_Price  Profit  \\\n",
       "4995   Water Bottle - 30 oz.              20          2           5      58   \n",
       "4996            AWC Logo Cap              12          7           9       1   \n",
       "4997  Sport-100 Helmet, Blue              20         13          35     433   \n",
       "4998     Patch Kit/8 Patches              16          1           2      16   \n",
       "4999     Patch Kit/8 Patches              15          1           2      10   \n",
       "\n",
       "      Revenue  \n",
       "4995       98  \n",
       "4996       85  \n",
       "4997      693  \n",
       "4998       32  \n",
       "4999       25  "
      ]
     },
     "execution_count": 35,
     "metadata": {},
     "output_type": "execute_result"
    }
   ],
   "source": [
    "sales.tail()"
   ]
  },
  {
   "cell_type": "markdown",
   "metadata": {},
   "source": [
    "### Fixing column types\n",
    "\n",
    "- Cast `Date` to `datetime`.\n",
    "- Cast `Customer_Gender`, `Country`, `State`, `Product_Category` and `Sub_Category` to `category`."
   ]
  },
  {
   "cell_type": "code",
   "execution_count": 36,
   "metadata": {},
   "outputs": [],
   "source": [
    "# this does not work: sales['Date'].astype('datetime')\n",
    "\n",
    "sales['Date'] = pd.to_datetime(sales['Date'])"
   ]
  },
  {
   "cell_type": "code",
   "execution_count": 37,
   "metadata": {},
   "outputs": [],
   "source": [
    "sales['Customer_Gender'] = sales['Customer_Gender'].astype('category')\n",
    "sales['Country'] = sales['Country'].astype('category')\n",
    "sales['State'] = sales['State'].astype('category')\n",
    "sales['Product_Category'] = sales['Product_Category'].astype('category')\n",
    "sales['Sub_Category'] = sales['Sub_Category'].astype('category')"
   ]
  },
  {
   "cell_type": "code",
   "execution_count": 38,
   "metadata": {},
   "outputs": [
    {
     "name": "stdout",
     "output_type": "stream",
     "text": [
      "<class 'pandas.core.frame.DataFrame'>\n",
      "RangeIndex: 5000 entries, 0 to 4999\n",
      "Data columns (total 16 columns):\n",
      " #   Column            Non-Null Count  Dtype         \n",
      "---  ------            --------------  -----         \n",
      " 0   Date              5000 non-null   datetime64[ns]\n",
      " 1   Day               5000 non-null   int64         \n",
      " 2   Month             5000 non-null   object        \n",
      " 3   Year              5000 non-null   int64         \n",
      " 4   Customer_Age      5000 non-null   int64         \n",
      " 5   Customer_Gender   5000 non-null   category      \n",
      " 6   Country           5000 non-null   category      \n",
      " 7   State             5000 non-null   category      \n",
      " 8   Product_Category  5000 non-null   category      \n",
      " 9   Sub_Category      5000 non-null   category      \n",
      " 10  Product           5000 non-null   object        \n",
      " 11  Order_Quantity    5000 non-null   int64         \n",
      " 12  Unit_Cost         5000 non-null   int64         \n",
      " 13  Unit_Price        5000 non-null   int64         \n",
      " 14  Profit            5000 non-null   int64         \n",
      " 15  Revenue           5000 non-null   int64         \n",
      "dtypes: category(5), datetime64[ns](1), int64(8), object(2)\n",
      "memory usage: 456.7+ KB\n"
     ]
    }
   ],
   "source": [
    "sales.info()"
   ]
  },
  {
   "cell_type": "markdown",
   "metadata": {},
   "source": [
    "![green-divider](https://user-images.githubusercontent.com/7065401/52071924-c003ad80-2562-11e9-8297-1c6595f8a7ff.png)\n",
    "\n",
    "### Summary statistics of the data"
   ]
  },
  {
   "cell_type": "code",
   "execution_count": 39,
   "metadata": {},
   "outputs": [
    {
     "data": {
      "text/html": [
       "<div><div id=d04f1d4c-0163-4a5e-be8c-fb236a992878 style=\"display:none; background-color:#9D6CFF; color:white; width:200px; height:30px; padding-left:5px; border-radius:4px; flex-direction:row; justify-content:space-around; align-items:center;\" onmouseover=\"this.style.backgroundColor='#BA9BF8'\" onmouseout=\"this.style.backgroundColor='#9D6CFF'\" onclick=\"window.commands?.execute('create-mitosheet-from-dataframe-output');\">See Full Dataframe in Mito</div> <script> if (window.commands.hasCommand('create-mitosheet-from-dataframe-output')) document.getElementById('d04f1d4c-0163-4a5e-be8c-fb236a992878').style.display = 'flex' </script> <table border=\"1\" class=\"dataframe\">\n",
       "  <thead>\n",
       "    <tr style=\"text-align: right;\">\n",
       "      <th></th>\n",
       "      <th>Day</th>\n",
       "      <th>Year</th>\n",
       "      <th>Customer_Age</th>\n",
       "      <th>Order_Quantity</th>\n",
       "      <th>Unit_Cost</th>\n",
       "      <th>Unit_Price</th>\n",
       "      <th>Profit</th>\n",
       "      <th>Revenue</th>\n",
       "    </tr>\n",
       "  </thead>\n",
       "  <tbody>\n",
       "    <tr>\n",
       "      <th>count</th>\n",
       "      <td>5000.000000</td>\n",
       "      <td>5000.000000</td>\n",
       "      <td>5000.000000</td>\n",
       "      <td>5000.000000</td>\n",
       "      <td>5000.000000</td>\n",
       "      <td>5000.000000</td>\n",
       "      <td>5000.000000</td>\n",
       "      <td>5000.000000</td>\n",
       "    </tr>\n",
       "    <tr>\n",
       "      <th>mean</th>\n",
       "      <td>15.668800</td>\n",
       "      <td>2014.405000</td>\n",
       "      <td>35.933800</td>\n",
       "      <td>11.820400</td>\n",
       "      <td>278.415000</td>\n",
       "      <td>470.680600</td>\n",
       "      <td>291.653400</td>\n",
       "      <td>772.758000</td>\n",
       "    </tr>\n",
       "    <tr>\n",
       "      <th>std</th>\n",
       "      <td>8.797783</td>\n",
       "      <td>1.266055</td>\n",
       "      <td>11.087886</td>\n",
       "      <td>9.607841</td>\n",
       "      <td>562.721951</td>\n",
       "      <td>941.590529</td>\n",
       "      <td>457.359971</td>\n",
       "      <td>1306.052588</td>\n",
       "    </tr>\n",
       "    <tr>\n",
       "      <th>min</th>\n",
       "      <td>1.000000</td>\n",
       "      <td>2011.000000</td>\n",
       "      <td>17.000000</td>\n",
       "      <td>1.000000</td>\n",
       "      <td>1.000000</td>\n",
       "      <td>2.000000</td>\n",
       "      <td>-24.000000</td>\n",
       "      <td>2.000000</td>\n",
       "    </tr>\n",
       "    <tr>\n",
       "      <th>25%</th>\n",
       "      <td>8.000000</td>\n",
       "      <td>2013.000000</td>\n",
       "      <td>28.000000</td>\n",
       "      <td>2.000000</td>\n",
       "      <td>2.000000</td>\n",
       "      <td>5.000000</td>\n",
       "      <td>29.000000</td>\n",
       "      <td>64.000000</td>\n",
       "    </tr>\n",
       "    <tr>\n",
       "      <th>50%</th>\n",
       "      <td>16.000000</td>\n",
       "      <td>2014.000000</td>\n",
       "      <td>35.000000</td>\n",
       "      <td>10.000000</td>\n",
       "      <td>9.000000</td>\n",
       "      <td>25.000000</td>\n",
       "      <td>103.000000</td>\n",
       "      <td>226.000000</td>\n",
       "    </tr>\n",
       "    <tr>\n",
       "      <th>75%</th>\n",
       "      <td>23.000000</td>\n",
       "      <td>2016.000000</td>\n",
       "      <td>43.000000</td>\n",
       "      <td>20.000000</td>\n",
       "      <td>42.000000</td>\n",
       "      <td>70.000000</td>\n",
       "      <td>367.000000</td>\n",
       "      <td>829.250000</td>\n",
       "    </tr>\n",
       "    <tr>\n",
       "      <th>max</th>\n",
       "      <td>31.000000</td>\n",
       "      <td>2016.000000</td>\n",
       "      <td>87.000000</td>\n",
       "      <td>32.000000</td>\n",
       "      <td>2171.000000</td>\n",
       "      <td>3578.000000</td>\n",
       "      <td>5342.000000</td>\n",
       "      <td>14026.000000</td>\n",
       "    </tr>\n",
       "  </tbody>\n",
       "</table></div>"
      ],
      "text/plain": [
       "               Day         Year  Customer_Age  Order_Quantity    Unit_Cost  \\\n",
       "count  5000.000000  5000.000000   5000.000000     5000.000000  5000.000000   \n",
       "mean     15.668800  2014.405000     35.933800       11.820400   278.415000   \n",
       "std       8.797783     1.266055     11.087886        9.607841   562.721951   \n",
       "min       1.000000  2011.000000     17.000000        1.000000     1.000000   \n",
       "25%       8.000000  2013.000000     28.000000        2.000000     2.000000   \n",
       "50%      16.000000  2014.000000     35.000000       10.000000     9.000000   \n",
       "75%      23.000000  2016.000000     43.000000       20.000000    42.000000   \n",
       "max      31.000000  2016.000000     87.000000       32.000000  2171.000000   \n",
       "\n",
       "        Unit_Price       Profit       Revenue  \n",
       "count  5000.000000  5000.000000   5000.000000  \n",
       "mean    470.680600   291.653400    772.758000  \n",
       "std     941.590529   457.359971   1306.052588  \n",
       "min       2.000000   -24.000000      2.000000  \n",
       "25%       5.000000    29.000000     64.000000  \n",
       "50%      25.000000   103.000000    226.000000  \n",
       "75%      70.000000   367.000000    829.250000  \n",
       "max    3578.000000  5342.000000  14026.000000  "
      ]
     },
     "execution_count": 39,
     "metadata": {},
     "output_type": "execute_result"
    }
   ],
   "source": [
    "sales.describe()"
   ]
  },
  {
   "cell_type": "markdown",
   "metadata": {},
   "source": [
    "![green-divider](https://user-images.githubusercontent.com/7065401/52071924-c003ad80-2562-11e9-8297-1c6595f8a7ff.png)\n",
    "\n",
    "### What's the mean of `Customers_Age`?"
   ]
  },
  {
   "cell_type": "code",
   "execution_count": 40,
   "metadata": {},
   "outputs": [
    {
     "data": {
      "text/plain": [
       "35.9338"
      ]
     },
     "execution_count": 40,
     "metadata": {},
     "output_type": "execute_result"
    }
   ],
   "source": [
    "sales['Customer_Age'].mean()"
   ]
  },
  {
   "cell_type": "markdown",
   "metadata": {},
   "source": [
    "![green-divider](https://user-images.githubusercontent.com/7065401/52071924-c003ad80-2562-11e9-8297-1c6595f8a7ff.png)\n",
    "\n",
    "### What's the mean of `Order_Quantity`?"
   ]
  },
  {
   "cell_type": "code",
   "execution_count": 41,
   "metadata": {},
   "outputs": [
    {
     "data": {
      "text/plain": [
       "11.8204"
      ]
     },
     "execution_count": 41,
     "metadata": {},
     "output_type": "execute_result"
    }
   ],
   "source": [
    "sales['Order_Quantity'].mean()"
   ]
  },
  {
   "cell_type": "markdown",
   "metadata": {},
   "source": [
    "Plotting <b>histogram</b> and <b>boxplot</b> of the `Order Quantity` data"
   ]
  },
  {
   "cell_type": "code",
   "execution_count": 42,
   "metadata": {},
   "outputs": [
    {
     "data": {
      "text/plain": [
       "<AxesSubplot:ylabel='Frequency'>"
      ]
     },
     "execution_count": 42,
     "metadata": {},
     "output_type": "execute_result"
    },
    {
     "data": {
      "image/png": "[encoded data removed]",
      "text/plain": [
       "<Figure size 1008x432 with 1 Axes>"
      ]
     },
     "metadata": {
      "needs_background": "light"
     },
     "output_type": "display_data"
    }
   ],
   "source": [
    "sales['Order_Quantity'].plot(kind='hist', bins=30, figsize=(14,6))"
   ]
  },
  {
   "cell_type": "code",
   "execution_count": 43,
   "metadata": {},
   "outputs": [
    {
     "data": {
      "text/plain": [
       "<AxesSubplot:>"
      ]
     },
     "execution_count": 43,
     "metadata": {},
     "output_type": "execute_result"
    },
    {
     "data": {
      "image/png": "[encoded data removed]",
      "text/plain": [
       "<Figure size 1008x432 with 1 Axes>"
      ]
     },
     "metadata": {
      "needs_background": "light"
     },
     "output_type": "display_data"
    }
   ],
   "source": [
    "sales['Order_Quantity'].plot(kind='box', vert=False, figsize=(14,6))"
   ]
  },
  {
   "cell_type": "markdown",
   "metadata": {},
   "source": [
    "![green-divider](https://user-images.githubusercontent.com/7065401/52071924-c003ad80-2562-11e9-8297-1c6595f8a7ff.png)\n",
    "\n",
    "### In which countries were sales made?"
   ]
  },
  {
   "cell_type": "code",
   "execution_count": 44,
   "metadata": {},
   "outputs": [
    {
     "data": {
      "text/plain": [
       "['United States', 'Canada', 'Australia', 'United Kingdom', 'Germany', 'France']\n",
       "Categories (6, object): ['Australia', 'Canada', 'France', 'Germany', 'United Kingdom', 'United States']"
      ]
     },
     "execution_count": 44,
     "metadata": {},
     "output_type": "execute_result"
    }
   ],
   "source": [
    "sales.Country.unique()"
   ]
  },
  {
   "cell_type": "markdown",
   "metadata": {},
   "source": [
    "![green-divider](https://user-images.githubusercontent.com/7065401/52071924-c003ad80-2562-11e9-8297-1c6595f8a7ff.png)\n",
    "\n",
    "### Sort sales by year\n",
    "\n",
    "Older sales should be at the bottom."
   ]
  },
  {
   "cell_type": "code",
   "execution_count": 45,
   "metadata": {},
   "outputs": [],
   "source": [
    "sales.sort_values(['Year'], inplace=True, ascending=False)"
   ]
  },
  {
   "cell_type": "code",
   "execution_count": 46,
   "metadata": {},
   "outputs": [
    {
     "data": {
      "text/html": [
       "<div><div id=7d0c9dc8-0299-4fec-b76c-de47d056cd53 style=\"display:none; background-color:#9D6CFF; color:white; width:200px; height:30px; padding-left:5px; border-radius:4px; flex-direction:row; justify-content:space-around; align-items:center;\" onmouseover=\"this.style.backgroundColor='#BA9BF8'\" onmouseout=\"this.style.backgroundColor='#9D6CFF'\" onclick=\"window.commands?.execute('create-mitosheet-from-dataframe-output');\">See Full Dataframe in Mito</div> <script> if (window.commands.hasCommand('create-mitosheet-from-dataframe-output')) document.getElementById('7d0c9dc8-0299-4fec-b76c-de47d056cd53').style.display = 'flex' </script> <table border=\"1\" class=\"dataframe\">\n",
       "  <thead>\n",
       "    <tr style=\"text-align: right;\">\n",
       "      <th></th>\n",
       "      <th>Date</th>\n",
       "      <th>Day</th>\n",
       "      <th>Month</th>\n",
       "      <th>Year</th>\n",
       "      <th>Customer_Age</th>\n",
       "      <th>Customer_Gender</th>\n",
       "      <th>Country</th>\n",
       "      <th>State</th>\n",
       "      <th>Product_Category</th>\n",
       "      <th>Sub_Category</th>\n",
       "      <th>Product</th>\n",
       "      <th>Order_Quantity</th>\n",
       "      <th>Unit_Cost</th>\n",
       "      <th>Unit_Price</th>\n",
       "      <th>Profit</th>\n",
       "      <th>Revenue</th>\n",
       "    </tr>\n",
       "  </thead>\n",
       "  <tbody>\n",
       "    <tr>\n",
       "      <th>3962</th>\n",
       "      <td>2016-07-19</td>\n",
       "      <td>19</td>\n",
       "      <td>July</td>\n",
       "      <td>2016</td>\n",
       "      <td>37</td>\n",
       "      <td>F</td>\n",
       "      <td>United States</td>\n",
       "      <td>California</td>\n",
       "      <td>Accessories</td>\n",
       "      <td>Helmets</td>\n",
       "      <td>Sport-100 Helmet, Red</td>\n",
       "      <td>25</td>\n",
       "      <td>13</td>\n",
       "      <td>35</td>\n",
       "      <td>533</td>\n",
       "      <td>858</td>\n",
       "    </tr>\n",
       "    <tr>\n",
       "      <th>3902</th>\n",
       "      <td>2016-05-20</td>\n",
       "      <td>20</td>\n",
       "      <td>May</td>\n",
       "      <td>2016</td>\n",
       "      <td>39</td>\n",
       "      <td>F</td>\n",
       "      <td>United States</td>\n",
       "      <td>California</td>\n",
       "      <td>Accessories</td>\n",
       "      <td>Bottles and Cages</td>\n",
       "      <td>Water Bottle - 30 oz.</td>\n",
       "      <td>16</td>\n",
       "      <td>2</td>\n",
       "      <td>5</td>\n",
       "      <td>46</td>\n",
       "      <td>78</td>\n",
       "    </tr>\n",
       "    <tr>\n",
       "      <th>3886</th>\n",
       "      <td>2016-03-01</td>\n",
       "      <td>1</td>\n",
       "      <td>March</td>\n",
       "      <td>2016</td>\n",
       "      <td>31</td>\n",
       "      <td>F</td>\n",
       "      <td>United Kingdom</td>\n",
       "      <td>England</td>\n",
       "      <td>Accessories</td>\n",
       "      <td>Helmets</td>\n",
       "      <td>Sport-100 Helmet, Blue</td>\n",
       "      <td>13</td>\n",
       "      <td>13</td>\n",
       "      <td>35</td>\n",
       "      <td>268</td>\n",
       "      <td>437</td>\n",
       "    </tr>\n",
       "  </tbody>\n",
       "</table></div>"
      ],
      "text/plain": [
       "           Date  Day  Month  Year  Customer_Age Customer_Gender  \\\n",
       "3962 2016-07-19   19   July  2016            37               F   \n",
       "3902 2016-05-20   20    May  2016            39               F   \n",
       "3886 2016-03-01    1  March  2016            31               F   \n",
       "\n",
       "             Country       State Product_Category       Sub_Category  \\\n",
       "3962   United States  California      Accessories            Helmets   \n",
       "3902   United States  California      Accessories  Bottles and Cages   \n",
       "3886  United Kingdom     England      Accessories            Helmets   \n",
       "\n",
       "                     Product  Order_Quantity  Unit_Cost  Unit_Price  Profit  \\\n",
       "3962   Sport-100 Helmet, Red              25         13          35     533   \n",
       "3902   Water Bottle - 30 oz.              16          2           5      46   \n",
       "3886  Sport-100 Helmet, Blue              13         13          35     268   \n",
       "\n",
       "      Revenue  \n",
       "3962      858  \n",
       "3902       78  \n",
       "3886      437  "
      ]
     },
     "execution_count": 46,
     "metadata": {},
     "output_type": "execute_result"
    }
   ],
   "source": [
    "sales.head(3)"
   ]
  },
  {
   "cell_type": "markdown",
   "metadata": {},
   "source": [
    "![green-divider](https://user-images.githubusercontent.com/7065401/52071924-c003ad80-2562-11e9-8297-1c6595f8a7ff.png)\n",
    "\n",
    "### Resetting the current index\n",
    "\n",
    "I will not keep the old index."
   ]
  },
  {
   "cell_type": "code",
   "execution_count": 47,
   "metadata": {},
   "outputs": [
    {
     "data": {
      "text/html": [
       "<div><div id=97f3dfb4-9d62-4973-a5f2-dfdb389d3782 style=\"display:none; background-color:#9D6CFF; color:white; width:200px; height:30px; padding-left:5px; border-radius:4px; flex-direction:row; justify-content:space-around; align-items:center;\" onmouseover=\"this.style.backgroundColor='#BA9BF8'\" onmouseout=\"this.style.backgroundColor='#9D6CFF'\" onclick=\"window.commands?.execute('create-mitosheet-from-dataframe-output');\">See Full Dataframe in Mito</div> <script> if (window.commands.hasCommand('create-mitosheet-from-dataframe-output')) document.getElementById('97f3dfb4-9d62-4973-a5f2-dfdb389d3782').style.display = 'flex' </script> <table border=\"1\" class=\"dataframe\">\n",
       "  <thead>\n",
       "    <tr style=\"text-align: right;\">\n",
       "      <th></th>\n",
       "      <th>Date</th>\n",
       "      <th>Day</th>\n",
       "      <th>Month</th>\n",
       "      <th>Year</th>\n",
       "      <th>Customer_Age</th>\n",
       "      <th>Customer_Gender</th>\n",
       "      <th>Country</th>\n",
       "      <th>State</th>\n",
       "      <th>Product_Category</th>\n",
       "      <th>Sub_Category</th>\n",
       "      <th>Product</th>\n",
       "      <th>Order_Quantity</th>\n",
       "      <th>Unit_Cost</th>\n",
       "      <th>Unit_Price</th>\n",
       "      <th>Profit</th>\n",
       "      <th>Revenue</th>\n",
       "    </tr>\n",
       "  </thead>\n",
       "  <tbody>\n",
       "    <tr>\n",
       "      <th>0</th>\n",
       "      <td>2016-07-19</td>\n",
       "      <td>19</td>\n",
       "      <td>July</td>\n",
       "      <td>2016</td>\n",
       "      <td>37</td>\n",
       "      <td>F</td>\n",
       "      <td>United States</td>\n",
       "      <td>California</td>\n",
       "      <td>Accessories</td>\n",
       "      <td>Helmets</td>\n",
       "      <td>Sport-100 Helmet, Red</td>\n",
       "      <td>25</td>\n",
       "      <td>13</td>\n",
       "      <td>35</td>\n",
       "      <td>533</td>\n",
       "      <td>858</td>\n",
       "    </tr>\n",
       "    <tr>\n",
       "      <th>1</th>\n",
       "      <td>2016-05-20</td>\n",
       "      <td>20</td>\n",
       "      <td>May</td>\n",
       "      <td>2016</td>\n",
       "      <td>39</td>\n",
       "      <td>F</td>\n",
       "      <td>United States</td>\n",
       "      <td>California</td>\n",
       "      <td>Accessories</td>\n",
       "      <td>Bottles and Cages</td>\n",
       "      <td>Water Bottle - 30 oz.</td>\n",
       "      <td>16</td>\n",
       "      <td>2</td>\n",
       "      <td>5</td>\n",
       "      <td>46</td>\n",
       "      <td>78</td>\n",
       "    </tr>\n",
       "    <tr>\n",
       "      <th>2</th>\n",
       "      <td>2016-03-01</td>\n",
       "      <td>1</td>\n",
       "      <td>March</td>\n",
       "      <td>2016</td>\n",
       "      <td>31</td>\n",
       "      <td>F</td>\n",
       "      <td>United Kingdom</td>\n",
       "      <td>England</td>\n",
       "      <td>Accessories</td>\n",
       "      <td>Helmets</td>\n",
       "      <td>Sport-100 Helmet, Blue</td>\n",
       "      <td>13</td>\n",
       "      <td>13</td>\n",
       "      <td>35</td>\n",
       "      <td>268</td>\n",
       "      <td>437</td>\n",
       "    </tr>\n",
       "    <tr>\n",
       "      <th>3</th>\n",
       "      <td>2016-01-18</td>\n",
       "      <td>18</td>\n",
       "      <td>January</td>\n",
       "      <td>2016</td>\n",
       "      <td>26</td>\n",
       "      <td>F</td>\n",
       "      <td>Australia</td>\n",
       "      <td>Victoria</td>\n",
       "      <td>Accessories</td>\n",
       "      <td>Bottles and Cages</td>\n",
       "      <td>Water Bottle - 30 oz.</td>\n",
       "      <td>1</td>\n",
       "      <td>2</td>\n",
       "      <td>5</td>\n",
       "      <td>2</td>\n",
       "      <td>4</td>\n",
       "    </tr>\n",
       "    <tr>\n",
       "      <th>4</th>\n",
       "      <td>2016-06-03</td>\n",
       "      <td>3</td>\n",
       "      <td>June</td>\n",
       "      <td>2016</td>\n",
       "      <td>44</td>\n",
       "      <td>F</td>\n",
       "      <td>Canada</td>\n",
       "      <td>British Columbia</td>\n",
       "      <td>Accessories</td>\n",
       "      <td>Helmets</td>\n",
       "      <td>Sport-100 Helmet, Black</td>\n",
       "      <td>18</td>\n",
       "      <td>13</td>\n",
       "      <td>35</td>\n",
       "      <td>390</td>\n",
       "      <td>624</td>\n",
       "    </tr>\n",
       "    <tr>\n",
       "      <th>...</th>\n",
       "      <td>...</td>\n",
       "      <td>...</td>\n",
       "      <td>...</td>\n",
       "      <td>...</td>\n",
       "      <td>...</td>\n",
       "      <td>...</td>\n",
       "      <td>...</td>\n",
       "      <td>...</td>\n",
       "      <td>...</td>\n",
       "      <td>...</td>\n",
       "      <td>...</td>\n",
       "      <td>...</td>\n",
       "      <td>...</td>\n",
       "      <td>...</td>\n",
       "      <td>...</td>\n",
       "      <td>...</td>\n",
       "    </tr>\n",
       "    <tr>\n",
       "      <th>4995</th>\n",
       "      <td>2011-03-01</td>\n",
       "      <td>1</td>\n",
       "      <td>March</td>\n",
       "      <td>2011</td>\n",
       "      <td>42</td>\n",
       "      <td>F</td>\n",
       "      <td>Germany</td>\n",
       "      <td>Saarland</td>\n",
       "      <td>Bikes</td>\n",
       "      <td>Road Bikes</td>\n",
       "      <td>Road-750 Black, 52</td>\n",
       "      <td>1</td>\n",
       "      <td>344</td>\n",
       "      <td>540</td>\n",
       "      <td>99</td>\n",
       "      <td>443</td>\n",
       "    </tr>\n",
       "    <tr>\n",
       "      <th>4996</th>\n",
       "      <td>2011-12-05</td>\n",
       "      <td>5</td>\n",
       "      <td>December</td>\n",
       "      <td>2011</td>\n",
       "      <td>48</td>\n",
       "      <td>M</td>\n",
       "      <td>Canada</td>\n",
       "      <td>British Columbia</td>\n",
       "      <td>Bikes</td>\n",
       "      <td>Road Bikes</td>\n",
       "      <td>Road-750 Black, 48</td>\n",
       "      <td>2</td>\n",
       "      <td>344</td>\n",
       "      <td>540</td>\n",
       "      <td>381</td>\n",
       "      <td>1069</td>\n",
       "    </tr>\n",
       "    <tr>\n",
       "      <th>4997</th>\n",
       "      <td>2011-07-30</td>\n",
       "      <td>30</td>\n",
       "      <td>July</td>\n",
       "      <td>2011</td>\n",
       "      <td>31</td>\n",
       "      <td>M</td>\n",
       "      <td>United States</td>\n",
       "      <td>California</td>\n",
       "      <td>Bikes</td>\n",
       "      <td>Mountain Bikes</td>\n",
       "      <td>Mountain-200 Silver, 38</td>\n",
       "      <td>1</td>\n",
       "      <td>1266</td>\n",
       "      <td>2320</td>\n",
       "      <td>1008</td>\n",
       "      <td>2274</td>\n",
       "    </tr>\n",
       "    <tr>\n",
       "      <th>4998</th>\n",
       "      <td>2011-12-12</td>\n",
       "      <td>12</td>\n",
       "      <td>December</td>\n",
       "      <td>2011</td>\n",
       "      <td>35</td>\n",
       "      <td>F</td>\n",
       "      <td>Australia</td>\n",
       "      <td>Victoria</td>\n",
       "      <td>Bikes</td>\n",
       "      <td>Mountain Bikes</td>\n",
       "      <td>Mountain-200 Silver, 42</td>\n",
       "      <td>1</td>\n",
       "      <td>1266</td>\n",
       "      <td>2320</td>\n",
       "      <td>567</td>\n",
       "      <td>1833</td>\n",
       "    </tr>\n",
       "    <tr>\n",
       "      <th>4999</th>\n",
       "      <td>2011-05-13</td>\n",
       "      <td>13</td>\n",
       "      <td>May</td>\n",
       "      <td>2011</td>\n",
       "      <td>33</td>\n",
       "      <td>M</td>\n",
       "      <td>Australia</td>\n",
       "      <td>Victoria</td>\n",
       "      <td>Bikes</td>\n",
       "      <td>Road Bikes</td>\n",
       "      <td>Road-250 Black, 52</td>\n",
       "      <td>3</td>\n",
       "      <td>1555</td>\n",
       "      <td>2443</td>\n",
       "      <td>1125</td>\n",
       "      <td>5790</td>\n",
       "    </tr>\n",
       "  </tbody>\n",
       "</table></div>"
      ],
      "text/plain": [
       "           Date  Day     Month  Year  Customer_Age Customer_Gender  \\\n",
       "0    2016-07-19   19      July  2016            37               F   \n",
       "1    2016-05-20   20       May  2016            39               F   \n",
       "2    2016-03-01    1     March  2016            31               F   \n",
       "3    2016-01-18   18   January  2016            26               F   \n",
       "4    2016-06-03    3      June  2016            44               F   \n",
       "...         ...  ...       ...   ...           ...             ...   \n",
       "4995 2011-03-01    1     March  2011            42               F   \n",
       "4996 2011-12-05    5  December  2011            48               M   \n",
       "4997 2011-07-30   30      July  2011            31               M   \n",
       "4998 2011-12-12   12  December  2011            35               F   \n",
       "4999 2011-05-13   13       May  2011            33               M   \n",
       "\n",
       "             Country             State Product_Category       Sub_Category  \\\n",
       "0      United States        California      Accessories            Helmets   \n",
       "1      United States        California      Accessories  Bottles and Cages   \n",
       "2     United Kingdom           England      Accessories            Helmets   \n",
       "3          Australia          Victoria      Accessories  Bottles and Cages   \n",
       "4             Canada  British Columbia      Accessories            Helmets   \n",
       "...              ...               ...              ...                ...   \n",
       "4995         Germany          Saarland            Bikes         Road Bikes   \n",
       "4996          Canada  British Columbia            Bikes         Road Bikes   \n",
       "4997   United States        California            Bikes     Mountain Bikes   \n",
       "4998       Australia          Victoria            Bikes     Mountain Bikes   \n",
       "4999       Australia          Victoria            Bikes         Road Bikes   \n",
       "\n",
       "                      Product  Order_Quantity  Unit_Cost  Unit_Price  Profit  \\\n",
       "0       Sport-100 Helmet, Red              25         13          35     533   \n",
       "1       Water Bottle - 30 oz.              16          2           5      46   \n",
       "2      Sport-100 Helmet, Blue              13         13          35     268   \n",
       "3       Water Bottle - 30 oz.               1          2           5       2   \n",
       "4     Sport-100 Helmet, Black              18         13          35     390   \n",
       "...                       ...             ...        ...         ...     ...   \n",
       "4995       Road-750 Black, 52               1        344         540      99   \n",
       "4996       Road-750 Black, 48               2        344         540     381   \n",
       "4997  Mountain-200 Silver, 38               1       1266        2320    1008   \n",
       "4998  Mountain-200 Silver, 42               1       1266        2320     567   \n",
       "4999       Road-250 Black, 52               3       1555        2443    1125   \n",
       "\n",
       "      Revenue  \n",
       "0         858  \n",
       "1          78  \n",
       "2         437  \n",
       "3           4  \n",
       "4         624  \n",
       "...       ...  \n",
       "4995      443  \n",
       "4996     1069  \n",
       "4997     2274  \n",
       "4998     1833  \n",
       "4999     5790  \n",
       "\n",
       "[5000 rows x 16 columns]"
      ]
     },
     "execution_count": 47,
     "metadata": {},
     "output_type": "execute_result"
    }
   ],
   "source": [
    "sales.reset_index(drop=True)"
   ]
  },
  {
   "cell_type": "markdown",
   "metadata": {},
   "source": [
    "![green-divider](https://user-images.githubusercontent.com/7065401/52071924-c003ad80-2562-11e9-8297-1c6595f8a7ff.png)\n",
    "\n",
    "### How many sales per year do we have?"
   ]
  },
  {
   "cell_type": "code",
   "execution_count": 48,
   "metadata": {},
   "outputs": [
    {
     "data": {
      "text/plain": [
       "2014    1327\n",
       "2016    1272\n",
       "2015    1123\n",
       "2013    1040\n",
       "2011     126\n",
       "2012     112\n",
       "Name: Year, dtype: int64"
      ]
     },
     "execution_count": 48,
     "metadata": {},
     "output_type": "execute_result"
    }
   ],
   "source": [
    "sales['Year'].value_counts()"
   ]
  },
  {
   "cell_type": "code",
   "execution_count": 49,
   "metadata": {},
   "outputs": [
    {
     "data": {
      "text/plain": [
       "<AxesSubplot:ylabel='Year'>"
      ]
     },
     "execution_count": 49,
     "metadata": {},
     "output_type": "execute_result"
    },
    {
     "data": {
      "image/png": "[encoded data removed]",
      "text/plain": [
       "<Figure size 720x432 with 1 Axes>"
      ]
     },
     "metadata": {},
     "output_type": "display_data"
    }
   ],
   "source": [
    "sales['Year'].value_counts().plot(kind='pie', figsize=(10,6))"
   ]
  },
  {
   "cell_type": "markdown",
   "metadata": {},
   "source": [
    "### How many orders were sold per year"
   ]
  },
  {
   "cell_type": "code",
   "execution_count": 50,
   "metadata": {},
   "outputs": [
    {
     "data": {
      "text/html": [
       "<div><div id=73f088d6-8613-40d0-aa3b-e46952f324ac style=\"display:none; background-color:#9D6CFF; color:white; width:200px; height:30px; padding-left:5px; border-radius:4px; flex-direction:row; justify-content:space-around; align-items:center;\" onmouseover=\"this.style.backgroundColor='#BA9BF8'\" onmouseout=\"this.style.backgroundColor='#9D6CFF'\" onclick=\"window.commands?.execute('create-mitosheet-from-dataframe-output');\">See Full Dataframe in Mito</div> <script> if (window.commands.hasCommand('create-mitosheet-from-dataframe-output')) document.getElementById('73f088d6-8613-40d0-aa3b-e46952f324ac').style.display = 'flex' </script> <table border=\"1\" class=\"dataframe\">\n",
       "  <thead>\n",
       "    <tr style=\"text-align: right;\">\n",
       "      <th></th>\n",
       "      <th>Order_Quantity</th>\n",
       "    </tr>\n",
       "    <tr>\n",
       "      <th>Year</th>\n",
       "      <th></th>\n",
       "    </tr>\n",
       "  </thead>\n",
       "  <tbody>\n",
       "    <tr>\n",
       "      <th>2011</th>\n",
       "      <td>235</td>\n",
       "    </tr>\n",
       "    <tr>\n",
       "      <th>2012</th>\n",
       "      <td>224</td>\n",
       "    </tr>\n",
       "    <tr>\n",
       "      <th>2013</th>\n",
       "      <td>11949</td>\n",
       "    </tr>\n",
       "    <tr>\n",
       "      <th>2014</th>\n",
       "      <td>17269</td>\n",
       "    </tr>\n",
       "    <tr>\n",
       "      <th>2015</th>\n",
       "      <td>13607</td>\n",
       "    </tr>\n",
       "    <tr>\n",
       "      <th>2016</th>\n",
       "      <td>15818</td>\n",
       "    </tr>\n",
       "  </tbody>\n",
       "</table></div>"
      ],
      "text/plain": [
       "      Order_Quantity\n",
       "Year                \n",
       "2011             235\n",
       "2012             224\n",
       "2013           11949\n",
       "2014           17269\n",
       "2015           13607\n",
       "2016           15818"
      ]
     },
     "execution_count": 50,
     "metadata": {},
     "output_type": "execute_result"
    }
   ],
   "source": [
    "sales_year_ordqty = sales[['Year', 'Order_Quantity']]\n",
    "sales_year_ordqty.groupby('Year').sum()\n"
   ]
  },
  {
   "cell_type": "markdown",
   "metadata": {},
   "source": [
    "Go ahead and show a <b>pie plot</b> and a <b>bar plot</b> with the previous data:"
   ]
  },
  {
   "cell_type": "code",
   "execution_count": 51,
   "metadata": {},
   "outputs": [],
   "source": [
    "# your code goes here\n"
   ]
  },
  {
   "cell_type": "markdown",
   "metadata": {},
   "source": [
    "![green-divider](https://user-images.githubusercontent.com/7065401/52071924-c003ad80-2562-11e9-8297-1c6595f8a7ff.png)\n",
    "\n",
    "### Create a new `Cost` column\n",
    "\n",
    "This column should be:\n",
    "$$ Cost = Unit\\_Cost * Order\\_Quantity $$"
   ]
  },
  {
   "cell_type": "code",
   "execution_count": 52,
   "metadata": {},
   "outputs": [],
   "source": [
    "sales['Cost'] = sales['Unit_Cost'] * sales['Order_Quantity']"
   ]
  },
  {
   "cell_type": "markdown",
   "metadata": {},
   "source": [
    "![green-divider](https://user-images.githubusercontent.com/7065401/52071924-c003ad80-2562-11e9-8297-1c6595f8a7ff.png)\n",
    "\n",
    "### I will create a new `YearMonth` column\n",
    "\n",
    "This new `YearMonth` column will be the concatenation of `Year` and `Month` columns, separated by a '-'."
   ]
  },
  {
   "cell_type": "code",
   "execution_count": 53,
   "metadata": {},
   "outputs": [],
   "source": [
    "# your code goes here\n",
    "sales['YearMonth'] = sales['Year'].astype('str') + '-' + sales['Month']\n",
    "#sales['Month'].dtype"
   ]
  },
  {
   "cell_type": "code",
   "execution_count": 54,
   "metadata": {},
   "outputs": [
    {
     "data": {
      "text/html": [
       "<div><div id=b23b8ccc-417c-4c09-a334-86c092f39b0b style=\"display:none; background-color:#9D6CFF; color:white; width:200px; height:30px; padding-left:5px; border-radius:4px; flex-direction:row; justify-content:space-around; align-items:center;\" onmouseover=\"this.style.backgroundColor='#BA9BF8'\" onmouseout=\"this.style.backgroundColor='#9D6CFF'\" onclick=\"window.commands?.execute('create-mitosheet-from-dataframe-output');\">See Full Dataframe in Mito</div> <script> if (window.commands.hasCommand('create-mitosheet-from-dataframe-output')) document.getElementById('b23b8ccc-417c-4c09-a334-86c092f39b0b').style.display = 'flex' </script> <table border=\"1\" class=\"dataframe\">\n",
       "  <thead>\n",
       "    <tr style=\"text-align: right;\">\n",
       "      <th></th>\n",
       "      <th>Date</th>\n",
       "      <th>Day</th>\n",
       "      <th>Month</th>\n",
       "      <th>Year</th>\n",
       "      <th>Customer_Age</th>\n",
       "      <th>Customer_Gender</th>\n",
       "      <th>Country</th>\n",
       "      <th>State</th>\n",
       "      <th>Product_Category</th>\n",
       "      <th>Sub_Category</th>\n",
       "      <th>Product</th>\n",
       "      <th>Order_Quantity</th>\n",
       "      <th>Unit_Cost</th>\n",
       "      <th>Unit_Price</th>\n",
       "      <th>Profit</th>\n",
       "      <th>Revenue</th>\n",
       "      <th>Cost</th>\n",
       "      <th>YearMonth</th>\n",
       "    </tr>\n",
       "  </thead>\n",
       "  <tbody>\n",
       "    <tr>\n",
       "      <th>3962</th>\n",
       "      <td>2016-07-19</td>\n",
       "      <td>19</td>\n",
       "      <td>July</td>\n",
       "      <td>2016</td>\n",
       "      <td>37</td>\n",
       "      <td>F</td>\n",
       "      <td>United States</td>\n",
       "      <td>California</td>\n",
       "      <td>Accessories</td>\n",
       "      <td>Helmets</td>\n",
       "      <td>Sport-100 Helmet, Red</td>\n",
       "      <td>25</td>\n",
       "      <td>13</td>\n",
       "      <td>35</td>\n",
       "      <td>533</td>\n",
       "      <td>858</td>\n",
       "      <td>325</td>\n",
       "      <td>2016-July</td>\n",
       "    </tr>\n",
       "    <tr>\n",
       "      <th>3902</th>\n",
       "      <td>2016-05-20</td>\n",
       "      <td>20</td>\n",
       "      <td>May</td>\n",
       "      <td>2016</td>\n",
       "      <td>39</td>\n",
       "      <td>F</td>\n",
       "      <td>United States</td>\n",
       "      <td>California</td>\n",
       "      <td>Accessories</td>\n",
       "      <td>Bottles and Cages</td>\n",
       "      <td>Water Bottle - 30 oz.</td>\n",
       "      <td>16</td>\n",
       "      <td>2</td>\n",
       "      <td>5</td>\n",
       "      <td>46</td>\n",
       "      <td>78</td>\n",
       "      <td>32</td>\n",
       "      <td>2016-May</td>\n",
       "    </tr>\n",
       "    <tr>\n",
       "      <th>3886</th>\n",
       "      <td>2016-03-01</td>\n",
       "      <td>1</td>\n",
       "      <td>March</td>\n",
       "      <td>2016</td>\n",
       "      <td>31</td>\n",
       "      <td>F</td>\n",
       "      <td>United Kingdom</td>\n",
       "      <td>England</td>\n",
       "      <td>Accessories</td>\n",
       "      <td>Helmets</td>\n",
       "      <td>Sport-100 Helmet, Blue</td>\n",
       "      <td>13</td>\n",
       "      <td>13</td>\n",
       "      <td>35</td>\n",
       "      <td>268</td>\n",
       "      <td>437</td>\n",
       "      <td>169</td>\n",
       "      <td>2016-March</td>\n",
       "    </tr>\n",
       "  </tbody>\n",
       "</table></div>"
      ],
      "text/plain": [
       "           Date  Day  Month  Year  Customer_Age Customer_Gender  \\\n",
       "3962 2016-07-19   19   July  2016            37               F   \n",
       "3902 2016-05-20   20    May  2016            39               F   \n",
       "3886 2016-03-01    1  March  2016            31               F   \n",
       "\n",
       "             Country       State Product_Category       Sub_Category  \\\n",
       "3962   United States  California      Accessories            Helmets   \n",
       "3902   United States  California      Accessories  Bottles and Cages   \n",
       "3886  United Kingdom     England      Accessories            Helmets   \n",
       "\n",
       "                     Product  Order_Quantity  Unit_Cost  Unit_Price  Profit  \\\n",
       "3962   Sport-100 Helmet, Red              25         13          35     533   \n",
       "3902   Water Bottle - 30 oz.              16          2           5      46   \n",
       "3886  Sport-100 Helmet, Blue              13         13          35     268   \n",
       "\n",
       "      Revenue  Cost   YearMonth  \n",
       "3962      858   325   2016-July  \n",
       "3902       78    32    2016-May  \n",
       "3886      437   169  2016-March  "
      ]
     },
     "execution_count": 54,
     "metadata": {},
     "output_type": "execute_result"
    }
   ],
   "source": [
    "sales.head(3)"
   ]
  },
  {
   "cell_type": "markdown",
   "metadata": {},
   "source": [
    "![green-divider](https://user-images.githubusercontent.com/7065401/52071924-c003ad80-2562-11e9-8297-1c6595f8a7ff.png)\n",
    "\n",
    "### How did sales evolve through the years?\n",
    "\n",
    "Count how many sales we have per `YearMonth`."
   ]
  },
  {
   "cell_type": "code",
   "execution_count": 55,
   "metadata": {},
   "outputs": [
    {
     "data": {
      "text/plain": [
       "2015-December    232\n",
       "2016-April       218\n",
       "2014-June        215\n",
       "2013-December    215\n",
       "2016-May         214\n",
       "                ... \n",
       "2012-December      7\n",
       "2012-February      6\n",
       "2011-February      6\n",
       "2011-June          6\n",
       "2012-March         4\n",
       "Name: YearMonth, Length: 62, dtype: int64"
      ]
     },
     "execution_count": 55,
     "metadata": {},
     "output_type": "execute_result"
    }
   ],
   "source": [
    "sales['YearMonth'].value_counts()"
   ]
  },
  {
   "cell_type": "markdown",
   "metadata": {},
   "source": [
    "Go ahead and show a <b>bar plot</b> with the previous data:"
   ]
  },
  {
   "cell_type": "code",
   "execution_count": 56,
   "metadata": {},
   "outputs": [
    {
     "data": {
      "text/plain": [
       "<AxesSubplot:>"
      ]
     },
     "execution_count": 56,
     "metadata": {},
     "output_type": "execute_result"
    },
    {
     "data": {
      "image/png": "[encoded data removed]",
      "text/plain": [
       "<Figure size 432x288 with 1 Axes>"
      ]
     },
     "metadata": {
      "needs_background": "light"
     },
     "output_type": "display_data"
    }
   ],
   "source": [
    "sales['YearMonth'].value_counts().plot(kind='bar')\n"
   ]
  },
  {
   "cell_type": "markdown",
   "metadata": {},
   "source": [
    "![green-divider](https://user-images.githubusercontent.com/7065401/52071924-c003ad80-2562-11e9-8297-1c6595f8a7ff.png)\n",
    "\n",
    "### Which country has the most sales `quantity of sales`?"
   ]
  },
  {
   "cell_type": "code",
   "execution_count": 57,
   "metadata": {},
   "outputs": [
    {
     "data": {
      "text/plain": [
       "United States     1700\n",
       "Australia         1066\n",
       "Canada             657\n",
       "United Kingdom     604\n",
       "France             489\n",
       "Germany            484\n",
       "Name: Country, dtype: int64"
      ]
     },
     "execution_count": 57,
     "metadata": {},
     "output_type": "execute_result"
    }
   ],
   "source": [
    "#sales[['Country', 'Order_Quantity']].groupby('Country').sum().sort_values(by='Order_Quantity', ascending=False)\n",
    "sales['Country'].value_counts()"
   ]
  },
  {
   "cell_type": "markdown",
   "metadata": {},
   "source": [
    "Show a <b>bar plot</b> of the sales per country:"
   ]
  },
  {
   "cell_type": "code",
   "execution_count": 58,
   "metadata": {},
   "outputs": [
    {
     "data": {
      "text/plain": [
       "<AxesSubplot:>"
      ]
     },
     "execution_count": 58,
     "metadata": {},
     "output_type": "execute_result"
    },
    {
     "data": {
      "image/png": "[encoded data removed]",
      "text/plain": [
       "<Figure size 432x288 with 1 Axes>"
      ]
     },
     "metadata": {
      "needs_background": "light"
     },
     "output_type": "display_data"
    }
   ],
   "source": [
    "%matplotlib inline\n",
    "\n",
    "#df = sales[['Country', 'Order_Quantity']].groupby('Country').sum().sort_values(by='Order_Quantity', ascending=False)\n",
    "#df.plot(kind='bar')\n",
    "\n",
    "sales['Country'].value_counts().plot(kind='bar')"
   ]
  },
  {
   "cell_type": "markdown",
   "metadata": {},
   "source": [
    "![green-divider](https://user-images.githubusercontent.com/7065401/52071924-c003ad80-2562-11e9-8297-1c6595f8a7ff.png)\n",
    "\n",
    "### Get a list of every product sold"
   ]
  },
  {
   "cell_type": "code",
   "execution_count": 59,
   "metadata": {},
   "outputs": [
    {
     "data": {
      "text/plain": [
       "<bound method Series.unique of 3962      Sport-100 Helmet, Red\n",
       "3902      Water Bottle - 30 oz.\n",
       "3886     Sport-100 Helmet, Blue\n",
       "3888      Water Bottle - 30 oz.\n",
       "1571    Sport-100 Helmet, Black\n",
       "                 ...           \n",
       "3876         Road-750 Black, 52\n",
       "426          Road-750 Black, 48\n",
       "4890    Mountain-200 Silver, 38\n",
       "2322    Mountain-200 Silver, 42\n",
       "3282         Road-250 Black, 52\n",
       "Name: Product, Length: 5000, dtype: object>"
      ]
     },
     "execution_count": 59,
     "metadata": {},
     "output_type": "execute_result"
    }
   ],
   "source": [
    "unique_prod_list = sales['Product'].unique\n",
    "unique_prod_list"
   ]
  },
  {
   "cell_type": "markdown",
   "metadata": {},
   "source": [
    "Create a **bar plot** showing the 10 most sold products (best sellers):"
   ]
  },
  {
   "cell_type": "code",
   "execution_count": 60,
   "metadata": {},
   "outputs": [],
   "source": [
    "most_sold_prod_10 = sales[['Product', 'Order_Quantity']].groupby('Product').sum().sort_values(by='Order_Quantity',ascending=False).head(10)"
   ]
  },
  {
   "cell_type": "code",
   "execution_count": 61,
   "metadata": {},
   "outputs": [
    {
     "data": {
      "text/plain": [
       "<AxesSubplot:xlabel='Product', ylabel='Order_Quantity'>"
      ]
     },
     "execution_count": 61,
     "metadata": {},
     "output_type": "execute_result"
    },
    {
     "data": {
      "image/png": "[encoded data removed]",
      "text/plain": [
       "<Figure size 1080x720 with 1 Axes>"
      ]
     },
     "metadata": {
      "needs_background": "light"
     },
     "output_type": "display_data"
    }
   ],
   "source": [
    "%matplotlib inline \n",
    "most_sold_prod_10.plot(kind='bar', figsize=(15,10), ylabel='Order_Quantity')"
   ]
  },
  {
   "cell_type": "markdown",
   "metadata": {},
   "source": [
    "![green-divider](https://user-images.githubusercontent.com/7065401/52071924-c003ad80-2562-11e9-8297-1c6595f8a7ff.png)\n",
    "\n",
    "### Checking for any relationship between `Unit_Cost` and `Unit_Price` using a scatter plot"
   ]
  },
  {
   "cell_type": "code",
   "execution_count": 62,
   "metadata": {},
   "outputs": [
    {
     "data": {
      "text/plain": [
       "<AxesSubplot:xlabel='Unit_Cost', ylabel='Unit_Price'>"
      ]
     },
     "execution_count": 62,
     "metadata": {},
     "output_type": "execute_result"
    },
    {
     "data": {
      "image/png": "[encoded data removed]",
      "text/plain": [
       "<Figure size 432x432 with 1 Axes>"
      ]
     },
     "metadata": {
      "needs_background": "light"
     },
     "output_type": "display_data"
    }
   ],
   "source": [
    "sales.plot(kind='scatter', x ='Unit_Cost', y ='Unit_Price', figsize=(6,6))"
   ]
  },
  {
   "cell_type": "markdown",
   "metadata": {},
   "source": [
    "The plot above shows a very strong positive relationship between unit price and unit cost"
   ]
  },
  {
   "cell_type": "markdown",
   "metadata": {},
   "source": [
    "![green-divider](https://user-images.githubusercontent.com/7065401/52071924-c003ad80-2562-11e9-8297-1c6595f8a7ff.png)\n",
    "\n",
    "### Can you see any relationship between `Order_Quantity` and `Profit`?\n",
    "\n",
    "Show a <b>scatter plot</b> between both columns."
   ]
  },
  {
   "cell_type": "code",
   "execution_count": 63,
   "metadata": {},
   "outputs": [
    {
     "data": {
      "text/plain": [
       "<AxesSubplot:xlabel='Order_Quantity', ylabel='Profit'>"
      ]
     },
     "execution_count": 63,
     "metadata": {},
     "output_type": "execute_result"
    },
    {
     "data": {
      "image/png": "[encoded data removed]",
      "text/plain": [
       "<Figure size 432x432 with 1 Axes>"
      ]
     },
     "metadata": {
      "needs_background": "light"
     },
     "output_type": "display_data"
    }
   ],
   "source": [
    "sales.plot(kind='scatter', x='Order_Quantity', y='Profit', figsize=(6,6))"
   ]
  },
  {
   "cell_type": "markdown",
   "metadata": {},
   "source": [
    "The plot above shows a no relationship between profit and order quanity"
   ]
  },
  {
   "cell_type": "markdown",
   "metadata": {},
   "source": [
    "![green-divider](https://user-images.githubusercontent.com/7065401/52071924-c003ad80-2562-11e9-8297-1c6595f8a7ff.png)\n",
    "\n",
    "### Can you see any relationship between `Profit` per `Country`?\n",
    "\n",
    "Show a grouped <b>box plot</b> per country with the profit values."
   ]
  },
  {
   "cell_type": "code",
   "execution_count": 64,
   "metadata": {},
   "outputs": [
    {
     "data": {
      "text/plain": [
       "<AxesSubplot:title={'center':'Profit'}, xlabel='[Country]'>"
      ]
     },
     "execution_count": 64,
     "metadata": {},
     "output_type": "execute_result"
    },
    {
     "data": {
      "image/png": "[encoded data removed]",
      "text/plain": [
       "<Figure size 720x432 with 1 Axes>"
      ]
     },
     "metadata": {
      "needs_background": "light"
     },
     "output_type": "display_data"
    }
   ],
   "source": [
    "sales[['Profit', 'Country']].boxplot(by='Country', figsize=(10,6))"
   ]
  },
  {
   "cell_type": "markdown",
   "metadata": {},
   "source": [
    "![green-divider](https://user-images.githubusercontent.com/7065401/52071924-c003ad80-2562-11e9-8297-1c6595f8a7ff.png)\n",
    "\n",
    "### Checking for any relationship between the `Customer_Age` per `Country` using a boxplot"
   ]
  },
  {
   "cell_type": "code",
   "execution_count": 65,
   "metadata": {},
   "outputs": [
    {
     "data": {
      "text/plain": [
       "<AxesSubplot:title={'center':'Customer_Age'}, xlabel='[Country]'>"
      ]
     },
     "execution_count": 65,
     "metadata": {},
     "output_type": "execute_result"
    },
    {
     "data": {
      "image/png": "[encoded data removed]",
      "text/plain": [
       "<Figure size 720x432 with 1 Axes>"
      ]
     },
     "metadata": {
      "needs_background": "light"
     },
     "output_type": "display_data"
    }
   ],
   "source": [
    "sales[['Customer_Age', 'Country']].boxplot(by='Country', figsize=(10,6))"
   ]
  },
  {
   "cell_type": "markdown",
   "metadata": {},
   "source": [
    "![green-divider](https://user-images.githubusercontent.com/7065401/52071924-c003ad80-2562-11e9-8297-1c6595f8a7ff.png)\n",
    "\n",
    "### Increase 50 U$S revenue to every sale"
   ]
  },
  {
   "cell_type": "code",
   "execution_count": 66,
   "metadata": {},
   "outputs": [],
   "source": [
    "# your code goes here\n",
    "sales['Revenue'] += 50"
   ]
  },
  {
   "cell_type": "code",
   "execution_count": 67,
   "metadata": {},
   "outputs": [
    {
     "data": {
      "text/html": [
       "<div><div id=122d4326-3339-4705-9a76-3e88e2d2a847 style=\"display:none; background-color:#9D6CFF; color:white; width:200px; height:30px; padding-left:5px; border-radius:4px; flex-direction:row; justify-content:space-around; align-items:center;\" onmouseover=\"this.style.backgroundColor='#BA9BF8'\" onmouseout=\"this.style.backgroundColor='#9D6CFF'\" onclick=\"window.commands?.execute('create-mitosheet-from-dataframe-output');\">See Full Dataframe in Mito</div> <script> if (window.commands.hasCommand('create-mitosheet-from-dataframe-output')) document.getElementById('122d4326-3339-4705-9a76-3e88e2d2a847').style.display = 'flex' </script> <table border=\"1\" class=\"dataframe\">\n",
       "  <thead>\n",
       "    <tr style=\"text-align: right;\">\n",
       "      <th></th>\n",
       "      <th>Product</th>\n",
       "      <th>Revenue</th>\n",
       "    </tr>\n",
       "  </thead>\n",
       "  <tbody>\n",
       "    <tr>\n",
       "      <th>3962</th>\n",
       "      <td>Sport-100 Helmet, Red</td>\n",
       "      <td>908</td>\n",
       "    </tr>\n",
       "    <tr>\n",
       "      <th>3902</th>\n",
       "      <td>Water Bottle - 30 oz.</td>\n",
       "      <td>128</td>\n",
       "    </tr>\n",
       "    <tr>\n",
       "      <th>3886</th>\n",
       "      <td>Sport-100 Helmet, Blue</td>\n",
       "      <td>487</td>\n",
       "    </tr>\n",
       "    <tr>\n",
       "      <th>3888</th>\n",
       "      <td>Water Bottle - 30 oz.</td>\n",
       "      <td>54</td>\n",
       "    </tr>\n",
       "    <tr>\n",
       "      <th>1571</th>\n",
       "      <td>Sport-100 Helmet, Black</td>\n",
       "      <td>674</td>\n",
       "    </tr>\n",
       "  </tbody>\n",
       "</table></div>"
      ],
      "text/plain": [
       "                      Product  Revenue\n",
       "3962    Sport-100 Helmet, Red      908\n",
       "3902    Water Bottle - 30 oz.      128\n",
       "3886   Sport-100 Helmet, Blue      487\n",
       "3888    Water Bottle - 30 oz.       54\n",
       "1571  Sport-100 Helmet, Black      674"
      ]
     },
     "execution_count": 67,
     "metadata": {},
     "output_type": "execute_result"
    }
   ],
   "source": [
    "sales[['Product', 'Revenue']].head()"
   ]
  },
  {
   "cell_type": "markdown",
   "metadata": {},
   "source": [
    "![green-divider](https://user-images.githubusercontent.com/7065401/52071924-c003ad80-2562-11e9-8297-1c6595f8a7ff.png)\n",
    "\n",
    "### Number of orders were made in `Canada` or `France`"
   ]
  },
  {
   "cell_type": "code",
   "execution_count": 68,
   "metadata": {},
   "outputs": [
    {
     "data": {
      "text/html": [
       "<div><div id=12ea54c0-2927-43b7-b76c-a5f6ce4dc573 style=\"display:none; background-color:#9D6CFF; color:white; width:200px; height:30px; padding-left:5px; border-radius:4px; flex-direction:row; justify-content:space-around; align-items:center;\" onmouseover=\"this.style.backgroundColor='#BA9BF8'\" onmouseout=\"this.style.backgroundColor='#9D6CFF'\" onclick=\"window.commands?.execute('create-mitosheet-from-dataframe-output');\">See Full Dataframe in Mito</div> <script> if (window.commands.hasCommand('create-mitosheet-from-dataframe-output')) document.getElementById('12ea54c0-2927-43b7-b76c-a5f6ce4dc573').style.display = 'flex' </script> <table border=\"1\" class=\"dataframe\">\n",
       "  <thead>\n",
       "    <tr style=\"text-align: right;\">\n",
       "      <th></th>\n",
       "      <th>Order_Quantity</th>\n",
       "    </tr>\n",
       "    <tr>\n",
       "      <th>Country</th>\n",
       "      <th></th>\n",
       "    </tr>\n",
       "  </thead>\n",
       "  <tbody>\n",
       "    <tr>\n",
       "      <th>Canada</th>\n",
       "      <td>8942</td>\n",
       "    </tr>\n",
       "    <tr>\n",
       "      <th>France</th>\n",
       "      <td>5513</td>\n",
       "    </tr>\n",
       "  </tbody>\n",
       "</table></div>"
      ],
      "text/plain": [
       "         Order_Quantity\n",
       "Country                \n",
       "Canada             8942\n",
       "France             5513"
      ]
     },
     "execution_count": 68,
     "metadata": {},
     "output_type": "execute_result"
    }
   ],
   "source": [
    "orders_per_country = sales[['Country', 'Order_Quantity']].groupby('Country').sum()\n",
    "orders_per_country.loc[['Canada', 'France']]"
   ]
  },
  {
   "cell_type": "markdown",
   "metadata": {},
   "source": [
    "![green-divider](https://user-images.githubusercontent.com/7065401/52071924-c003ad80-2562-11e9-8297-1c6595f8a7ff.png)\n",
    "\n",
    "### How many `Bike Racks` orders were made from Canada?"
   ]
  },
  {
   "cell_type": "code",
   "execution_count": 69,
   "metadata": {},
   "outputs": [],
   "source": [
    "#sales3 = sales[['Product', 'Sub_Category', 'Country', 'Order_Quantity']]\n",
    "#sales3[(sales3['Sub_Category'] =='Bike Racks') & (sales3['Country'] == 'Canada')]['Order_Quantity'].sum()"
   ]
  },
  {
   "cell_type": "code",
   "execution_count": 70,
   "metadata": {},
   "outputs": [
    {
     "data": {
      "text/html": [
       "<div><div id=3c91dfea-8847-435f-9e26-097418f70da2 style=\"display:none; background-color:#9D6CFF; color:white; width:200px; height:30px; padding-left:5px; border-radius:4px; flex-direction:row; justify-content:space-around; align-items:center;\" onmouseover=\"this.style.backgroundColor='#BA9BF8'\" onmouseout=\"this.style.backgroundColor='#9D6CFF'\" onclick=\"window.commands?.execute('create-mitosheet-from-dataframe-output');\">See Full Dataframe in Mito</div> <script> if (window.commands.hasCommand('create-mitosheet-from-dataframe-output')) document.getElementById('3c91dfea-8847-435f-9e26-097418f70da2').style.display = 'flex' </script> <table border=\"1\" class=\"dataframe\">\n",
       "  <thead>\n",
       "    <tr style=\"text-align: right;\">\n",
       "      <th></th>\n",
       "      <th>Date</th>\n",
       "      <th>Day</th>\n",
       "      <th>Month</th>\n",
       "      <th>Year</th>\n",
       "      <th>Customer_Age</th>\n",
       "      <th>Customer_Gender</th>\n",
       "      <th>Country</th>\n",
       "      <th>State</th>\n",
       "      <th>Product_Category</th>\n",
       "      <th>Sub_Category</th>\n",
       "      <th>Product</th>\n",
       "      <th>Order_Quantity</th>\n",
       "      <th>Unit_Cost</th>\n",
       "      <th>Unit_Price</th>\n",
       "      <th>Profit</th>\n",
       "      <th>Revenue</th>\n",
       "      <th>Cost</th>\n",
       "      <th>YearMonth</th>\n",
       "    </tr>\n",
       "  </thead>\n",
       "  <tbody>\n",
       "    <tr>\n",
       "      <th>1562</th>\n",
       "      <td>2015-11-11</td>\n",
       "      <td>11</td>\n",
       "      <td>November</td>\n",
       "      <td>2015</td>\n",
       "      <td>34</td>\n",
       "      <td>M</td>\n",
       "      <td>Canada</td>\n",
       "      <td>British Columbia</td>\n",
       "      <td>Accessories</td>\n",
       "      <td>Bike Racks</td>\n",
       "      <td>Hitch Rack - 4-Bike</td>\n",
       "      <td>23</td>\n",
       "      <td>45</td>\n",
       "      <td>120</td>\n",
       "      <td>1697</td>\n",
       "      <td>2782</td>\n",
       "      <td>1035</td>\n",
       "      <td>2015-November</td>\n",
       "    </tr>\n",
       "    <tr>\n",
       "      <th>625</th>\n",
       "      <td>2015-11-17</td>\n",
       "      <td>17</td>\n",
       "      <td>November</td>\n",
       "      <td>2015</td>\n",
       "      <td>29</td>\n",
       "      <td>F</td>\n",
       "      <td>Canada</td>\n",
       "      <td>British Columbia</td>\n",
       "      <td>Accessories</td>\n",
       "      <td>Bike Racks</td>\n",
       "      <td>Hitch Rack - 4-Bike</td>\n",
       "      <td>14</td>\n",
       "      <td>45</td>\n",
       "      <td>120</td>\n",
       "      <td>1033</td>\n",
       "      <td>1713</td>\n",
       "      <td>630</td>\n",
       "      <td>2015-November</td>\n",
       "    </tr>\n",
       "    <tr>\n",
       "      <th>2401</th>\n",
       "      <td>2014-03-10</td>\n",
       "      <td>10</td>\n",
       "      <td>March</td>\n",
       "      <td>2014</td>\n",
       "      <td>43</td>\n",
       "      <td>F</td>\n",
       "      <td>Canada</td>\n",
       "      <td>British Columbia</td>\n",
       "      <td>Accessories</td>\n",
       "      <td>Bike Racks</td>\n",
       "      <td>Hitch Rack - 4-Bike</td>\n",
       "      <td>5</td>\n",
       "      <td>45</td>\n",
       "      <td>120</td>\n",
       "      <td>369</td>\n",
       "      <td>644</td>\n",
       "      <td>225</td>\n",
       "      <td>2014-March</td>\n",
       "    </tr>\n",
       "  </tbody>\n",
       "</table></div>"
      ],
      "text/plain": [
       "           Date  Day     Month  Year  Customer_Age Customer_Gender Country  \\\n",
       "1562 2015-11-11   11  November  2015            34               M  Canada   \n",
       "625  2015-11-17   17  November  2015            29               F  Canada   \n",
       "2401 2014-03-10   10     March  2014            43               F  Canada   \n",
       "\n",
       "                 State Product_Category Sub_Category              Product  \\\n",
       "1562  British Columbia      Accessories   Bike Racks  Hitch Rack - 4-Bike   \n",
       "625   British Columbia      Accessories   Bike Racks  Hitch Rack - 4-Bike   \n",
       "2401  British Columbia      Accessories   Bike Racks  Hitch Rack - 4-Bike   \n",
       "\n",
       "      Order_Quantity  Unit_Cost  Unit_Price  Profit  Revenue  Cost  \\\n",
       "1562              23         45         120    1697     2782  1035   \n",
       "625               14         45         120    1033     1713   630   \n",
       "2401               5         45         120     369      644   225   \n",
       "\n",
       "          YearMonth  \n",
       "1562  2015-November  \n",
       "625   2015-November  \n",
       "2401     2014-March  "
      ]
     },
     "execution_count": 70,
     "metadata": {},
     "output_type": "execute_result"
    }
   ],
   "source": [
    "sales.loc[(sales['Sub_Category'] == 'Bike Racks') & (sales['Country'] == 'Canada')]"
   ]
  },
  {
   "cell_type": "code",
   "execution_count": 71,
   "metadata": {},
   "outputs": [
    {
     "data": {
      "text/html": [
       "<div><div id=f7a74a5f-59c7-4390-b09c-7442d3c9025d style=\"display:none; background-color:#9D6CFF; color:white; width:200px; height:30px; padding-left:5px; border-radius:4px; flex-direction:row; justify-content:space-around; align-items:center;\" onmouseover=\"this.style.backgroundColor='#BA9BF8'\" onmouseout=\"this.style.backgroundColor='#9D6CFF'\" onclick=\"window.commands?.execute('create-mitosheet-from-dataframe-output');\">See Full Dataframe in Mito</div> <script> if (window.commands.hasCommand('create-mitosheet-from-dataframe-output')) document.getElementById('f7a74a5f-59c7-4390-b09c-7442d3c9025d').style.display = 'flex' </script> <table border=\"1\" class=\"dataframe\">\n",
       "  <thead>\n",
       "    <tr style=\"text-align: right;\">\n",
       "      <th></th>\n",
       "      <th>Date</th>\n",
       "      <th>Day</th>\n",
       "      <th>Month</th>\n",
       "      <th>Year</th>\n",
       "      <th>Customer_Age</th>\n",
       "      <th>Customer_Gender</th>\n",
       "      <th>Country</th>\n",
       "      <th>State</th>\n",
       "      <th>Product_Category</th>\n",
       "      <th>Sub_Category</th>\n",
       "      <th>Product</th>\n",
       "      <th>Order_Quantity</th>\n",
       "      <th>Unit_Cost</th>\n",
       "      <th>Unit_Price</th>\n",
       "      <th>Profit</th>\n",
       "      <th>Revenue</th>\n",
       "      <th>Cost</th>\n",
       "      <th>YearMonth</th>\n",
       "    </tr>\n",
       "  </thead>\n",
       "  <tbody>\n",
       "    <tr>\n",
       "      <th>1567</th>\n",
       "      <td>2016-06-09</td>\n",
       "      <td>9</td>\n",
       "      <td>June</td>\n",
       "      <td>2016</td>\n",
       "      <td>37</td>\n",
       "      <td>F</td>\n",
       "      <td>United States</td>\n",
       "      <td>California</td>\n",
       "      <td>Accessories</td>\n",
       "      <td>Bike Racks</td>\n",
       "      <td>Hitch Rack - 4-Bike</td>\n",
       "      <td>1</td>\n",
       "      <td>45</td>\n",
       "      <td>120</td>\n",
       "      <td>73</td>\n",
       "      <td>168</td>\n",
       "      <td>45</td>\n",
       "      <td>2016-June</td>\n",
       "    </tr>\n",
       "    <tr>\n",
       "      <th>1577</th>\n",
       "      <td>2016-02-18</td>\n",
       "      <td>18</td>\n",
       "      <td>February</td>\n",
       "      <td>2016</td>\n",
       "      <td>29</td>\n",
       "      <td>M</td>\n",
       "      <td>United Kingdom</td>\n",
       "      <td>England</td>\n",
       "      <td>Accessories</td>\n",
       "      <td>Cleaners</td>\n",
       "      <td>Bike Wash - Dissolver</td>\n",
       "      <td>21</td>\n",
       "      <td>3</td>\n",
       "      <td>8</td>\n",
       "      <td>98</td>\n",
       "      <td>211</td>\n",
       "      <td>63</td>\n",
       "      <td>2016-February</td>\n",
       "    </tr>\n",
       "    <tr>\n",
       "      <th>3652</th>\n",
       "      <td>2016-05-25</td>\n",
       "      <td>25</td>\n",
       "      <td>May</td>\n",
       "      <td>2016</td>\n",
       "      <td>20</td>\n",
       "      <td>F</td>\n",
       "      <td>Australia</td>\n",
       "      <td>New South Wales</td>\n",
       "      <td>Accessories</td>\n",
       "      <td>Cleaners</td>\n",
       "      <td>Bike Wash - Dissolver</td>\n",
       "      <td>28</td>\n",
       "      <td>3</td>\n",
       "      <td>8</td>\n",
       "      <td>111</td>\n",
       "      <td>245</td>\n",
       "      <td>84</td>\n",
       "      <td>2016-May</td>\n",
       "    </tr>\n",
       "    <tr>\n",
       "      <th>3763</th>\n",
       "      <td>2016-02-05</td>\n",
       "      <td>5</td>\n",
       "      <td>February</td>\n",
       "      <td>2016</td>\n",
       "      <td>47</td>\n",
       "      <td>M</td>\n",
       "      <td>United States</td>\n",
       "      <td>California</td>\n",
       "      <td>Accessories</td>\n",
       "      <td>Cleaners</td>\n",
       "      <td>Bike Wash - Dissolver</td>\n",
       "      <td>20</td>\n",
       "      <td>3</td>\n",
       "      <td>8</td>\n",
       "      <td>97</td>\n",
       "      <td>207</td>\n",
       "      <td>60</td>\n",
       "      <td>2016-February</td>\n",
       "    </tr>\n",
       "    <tr>\n",
       "      <th>4247</th>\n",
       "      <td>2016-05-21</td>\n",
       "      <td>21</td>\n",
       "      <td>May</td>\n",
       "      <td>2016</td>\n",
       "      <td>44</td>\n",
       "      <td>M</td>\n",
       "      <td>United Kingdom</td>\n",
       "      <td>England</td>\n",
       "      <td>Accessories</td>\n",
       "      <td>Cleaners</td>\n",
       "      <td>Bike Wash - Dissolver</td>\n",
       "      <td>8</td>\n",
       "      <td>3</td>\n",
       "      <td>8</td>\n",
       "      <td>37</td>\n",
       "      <td>111</td>\n",
       "      <td>24</td>\n",
       "      <td>2016-May</td>\n",
       "    </tr>\n",
       "  </tbody>\n",
       "</table></div>"
      ],
      "text/plain": [
       "           Date  Day     Month  Year  Customer_Age Customer_Gender  \\\n",
       "1567 2016-06-09    9      June  2016            37               F   \n",
       "1577 2016-02-18   18  February  2016            29               M   \n",
       "3652 2016-05-25   25       May  2016            20               F   \n",
       "3763 2016-02-05    5  February  2016            47               M   \n",
       "4247 2016-05-21   21       May  2016            44               M   \n",
       "\n",
       "             Country            State Product_Category Sub_Category  \\\n",
       "1567   United States       California      Accessories   Bike Racks   \n",
       "1577  United Kingdom          England      Accessories     Cleaners   \n",
       "3652       Australia  New South Wales      Accessories     Cleaners   \n",
       "3763   United States       California      Accessories     Cleaners   \n",
       "4247  United Kingdom          England      Accessories     Cleaners   \n",
       "\n",
       "                    Product  Order_Quantity  Unit_Cost  Unit_Price  Profit  \\\n",
       "1567    Hitch Rack - 4-Bike               1         45         120      73   \n",
       "1577  Bike Wash - Dissolver              21          3           8      98   \n",
       "3652  Bike Wash - Dissolver              28          3           8     111   \n",
       "3763  Bike Wash - Dissolver              20          3           8      97   \n",
       "4247  Bike Wash - Dissolver               8          3           8      37   \n",
       "\n",
       "      Revenue  Cost      YearMonth  \n",
       "1567      168    45      2016-June  \n",
       "1577      211    63  2016-February  \n",
       "3652      245    84       2016-May  \n",
       "3763      207    60  2016-February  \n",
       "4247      111    24       2016-May  "
      ]
     },
     "execution_count": 71,
     "metadata": {},
     "output_type": "execute_result"
    }
   ],
   "source": [
    "#sales[sales['Product_Category'] == 'Accessories']\n",
    "sales.loc[sales['Product'].str.contains('Bike')].head()"
   ]
  },
  {
   "cell_type": "markdown",
   "metadata": {},
   "source": [
    "![green-divider](https://user-images.githubusercontent.com/7065401/52071924-c003ad80-2562-11e9-8297-1c6595f8a7ff.png)\n",
    "\n",
    "### How many orders were made in each region (state) of France?"
   ]
  },
  {
   "cell_type": "code",
   "execution_count": 72,
   "metadata": {},
   "outputs": [
    {
     "data": {
      "text/plain": [
       "Seine (Paris)          101\n",
       "Seine Saint Denis       87\n",
       "Nord                    76\n",
       "Yveline                 48\n",
       "Hauts de Seine          41\n",
       "Essonne                 40\n",
       "Seine et Marne          16\n",
       "Moselle                 16\n",
       "Loiret                  13\n",
       "Val d'Oise              11\n",
       "Garonne (Haute)         10\n",
       "Charente-Maritime       10\n",
       "Pas de Calais            6\n",
       "Val de Marne             5\n",
       "Loir et Cher             5\n",
       "Somme                    4\n",
       "South Australia          0\n",
       "Brandenburg              0\n",
       "California               0\n",
       "Tasmania                 0\n",
       "Texas                    0\n",
       "Saarland                 0\n",
       "Utah                     0\n",
       "Victoria                 0\n",
       "Washington               0\n",
       "British Columbia         0\n",
       "Ohio                     0\n",
       "Queensland               0\n",
       "Oregon                   0\n",
       "Nordrhein-Westfalen      0\n",
       "Bayern                   0\n",
       "New York                 0\n",
       "New South Wales          0\n",
       "Missouri                 0\n",
       "Kentucky                 0\n",
       "Hessen                   0\n",
       "Hamburg                  0\n",
       "Georgia                  0\n",
       "England                  0\n",
       "Alberta                  0\n",
       "Name: State, dtype: int64"
      ]
     },
     "execution_count": 72,
     "metadata": {},
     "output_type": "execute_result"
    }
   ],
   "source": [
    "sales_france = sales.loc[sales['Country'] == 'France', 'State'].value_counts()\n",
    "sales_france\n"
   ]
  },
  {
   "cell_type": "markdown",
   "metadata": {},
   "source": [
    "Show the results with a <b>bar plot</b>:"
   ]
  },
  {
   "cell_type": "code",
   "execution_count": 73,
   "metadata": {},
   "outputs": [
    {
     "data": {
      "text/plain": [
       "<AxesSubplot:>"
      ]
     },
     "execution_count": 73,
     "metadata": {},
     "output_type": "execute_result"
    },
    {
     "data": {
      "image/png": "[encoded data removed]",
      "text/plain": [
       "<Figure size 1080x432 with 1 Axes>"
      ]
     },
     "metadata": {
      "needs_background": "light"
     },
     "output_type": "display_data"
    }
   ],
   "source": [
    "sales_france.plot(kind='bar', figsize=(15,6))"
   ]
  },
  {
   "cell_type": "markdown",
   "metadata": {},
   "source": [
    "![green-divider](https://user-images.githubusercontent.com/7065401/52071924-c003ad80-2562-11e9-8297-1c6595f8a7ff.png)\n",
    "\n",
    "### How many sales were made per category?"
   ]
  },
  {
   "cell_type": "code",
   "execution_count": 74,
   "metadata": {},
   "outputs": [
    {
     "data": {
      "text/html": [
       "<div><div id=baec4757-32a5-46a5-9b98-de9550674f90 style=\"display:none; background-color:#9D6CFF; color:white; width:200px; height:30px; padding-left:5px; border-radius:4px; flex-direction:row; justify-content:space-around; align-items:center;\" onmouseover=\"this.style.backgroundColor='#BA9BF8'\" onmouseout=\"this.style.backgroundColor='#9D6CFF'\" onclick=\"window.commands?.execute('create-mitosheet-from-dataframe-output');\">See Full Dataframe in Mito</div> <script> if (window.commands.hasCommand('create-mitosheet-from-dataframe-output')) document.getElementById('baec4757-32a5-46a5-9b98-de9550674f90').style.display = 'flex' </script> <table border=\"1\" class=\"dataframe\">\n",
       "  <thead>\n",
       "    <tr style=\"text-align: right;\">\n",
       "      <th></th>\n",
       "      <th>Order_Quantity</th>\n",
       "    </tr>\n",
       "    <tr>\n",
       "      <th>Sub_Category</th>\n",
       "      <th></th>\n",
       "    </tr>\n",
       "  </thead>\n",
       "  <tbody>\n",
       "    <tr>\n",
       "      <th>Bike Racks</th>\n",
       "      <td>209</td>\n",
       "    </tr>\n",
       "    <tr>\n",
       "      <th>Bike Stands</th>\n",
       "      <td>55</td>\n",
       "    </tr>\n",
       "    <tr>\n",
       "      <th>Bottles and Cages</th>\n",
       "      <td>10712</td>\n",
       "    </tr>\n",
       "    <tr>\n",
       "      <th>Caps</th>\n",
       "      <td>2838</td>\n",
       "    </tr>\n",
       "    <tr>\n",
       "      <th>Cleaners</th>\n",
       "      <td>1295</td>\n",
       "    </tr>\n",
       "    <tr>\n",
       "      <th>...</th>\n",
       "      <td>...</td>\n",
       "    </tr>\n",
       "    <tr>\n",
       "      <th>Shorts</th>\n",
       "      <td>1324</td>\n",
       "    </tr>\n",
       "    <tr>\n",
       "      <th>Socks</th>\n",
       "      <td>697</td>\n",
       "    </tr>\n",
       "    <tr>\n",
       "      <th>Tires and Tubes</th>\n",
       "      <td>21713</td>\n",
       "    </tr>\n",
       "    <tr>\n",
       "      <th>Touring Bikes</th>\n",
       "      <td>225</td>\n",
       "    </tr>\n",
       "    <tr>\n",
       "      <th>Vests</th>\n",
       "      <td>686</td>\n",
       "    </tr>\n",
       "  </tbody>\n",
       "</table></div>"
      ],
      "text/plain": [
       "                   Order_Quantity\n",
       "Sub_Category                     \n",
       "Bike Racks                    209\n",
       "Bike Stands                    55\n",
       "Bottles and Cages           10712\n",
       "Caps                         2838\n",
       "Cleaners                     1295\n",
       "Fenders                      2918\n",
       "Gloves                       1595\n",
       "Helmets                      8449\n",
       "Hydration Packs              1009\n",
       "Jerseys                      3994\n",
       "Mountain Bikes                515\n",
       "Road Bikes                    868\n",
       "Shorts                       1324\n",
       "Socks                         697\n",
       "Tires and Tubes             21713\n",
       "Touring Bikes                 225\n",
       "Vests                         686"
      ]
     },
     "execution_count": 74,
     "metadata": {},
     "output_type": "execute_result"
    }
   ],
   "source": [
    "sales[['Sub_Category', 'Order_Quantity']].groupby('Sub_Category').sum()"
   ]
  },
  {
   "cell_type": "markdown",
   "metadata": {},
   "source": [
    "Go ahead and show a <b>pie plot</b> with the results:"
   ]
  },
  {
   "cell_type": "markdown",
   "metadata": {},
   "source": [
    "![green-divider](https://user-images.githubusercontent.com/7065401/52071924-c003ad80-2562-11e9-8297-1c6595f8a7ff.png)\n",
    "\n",
    "### How many orders were made per accessory sub-categories?"
   ]
  },
  {
   "cell_type": "code",
   "execution_count": 75,
   "metadata": {},
   "outputs": [
    {
     "data": {
      "text/plain": [
       "['Accessories', 'Bikes', 'Clothing']\n",
       "Categories (3, object): ['Accessories', 'Bikes', 'Clothing']"
      ]
     },
     "execution_count": 75,
     "metadata": {},
     "output_type": "execute_result"
    }
   ],
   "source": [
    "sales['Product_Category'].unique()"
   ]
  },
  {
   "cell_type": "code",
   "execution_count": 76,
   "metadata": {},
   "outputs": [
    {
     "data": {
      "text/plain": [
       "Tires and Tubes      1458\n",
       "Bottles and Cages     719\n",
       "Helmets               553\n",
       "Fenders               183\n",
       "Cleaners               78\n",
       "Hydration Packs        64\n",
       "Bike Racks             26\n",
       "Bike Stands             9\n",
       "Gloves                  0\n",
       "Jerseys                 0\n",
       "Mountain Bikes          0\n",
       "Road Bikes              0\n",
       "Shorts                  0\n",
       "Socks                   0\n",
       "Caps                    0\n",
       "Touring Bikes           0\n",
       "Vests                   0\n",
       "Name: Sub_Category, dtype: int64"
      ]
     },
     "execution_count": 76,
     "metadata": {},
     "output_type": "execute_result"
    }
   ],
   "source": [
    "acc_sub_cat = sales.loc[sales['Product_Category']=='Accessories', 'Sub_Category'].value_counts()\n",
    "acc_sub_cat"
   ]
  },
  {
   "cell_type": "markdown",
   "metadata": {},
   "source": [
    "Show the results with a <b>bar plot</b>:"
   ]
  },
  {
   "cell_type": "code",
   "execution_count": 77,
   "metadata": {},
   "outputs": [
    {
     "data": {
      "text/plain": [
       "<AxesSubplot:>"
      ]
     },
     "execution_count": 77,
     "metadata": {},
     "output_type": "execute_result"
    },
    {
     "data": {
      "image/png": "[encoded data removed]",
      "text/plain": [
       "<Figure size 1008x576 with 1 Axes>"
      ]
     },
     "metadata": {
      "needs_background": "light"
     },
     "output_type": "display_data"
    }
   ],
   "source": [
    "acc_sub_cat.plot(kind='bar', figsize=(14,8))"
   ]
  },
  {
   "cell_type": "markdown",
   "metadata": {},
   "source": [
    "![green-divider](https://user-images.githubusercontent.com/7065401/52071924-c003ad80-2562-11e9-8297-1c6595f8a7ff.png)\n",
    "\n",
    "### How many orders were made per bike sub-categories?"
   ]
  },
  {
   "cell_type": "code",
   "execution_count": 78,
   "metadata": {},
   "outputs": [
    {
     "data": {
      "text/plain": [
       "Road Bikes           600\n",
       "Mountain Bikes       391\n",
       "Touring Bikes        175\n",
       "Bike Racks             0\n",
       "Jerseys                0\n",
       "Tires and Tubes        0\n",
       "Socks                  0\n",
       "Shorts                 0\n",
       "Hydration Packs        0\n",
       "Bike Stands            0\n",
       "Helmets                0\n",
       "Gloves                 0\n",
       "Fenders                0\n",
       "Cleaners               0\n",
       "Caps                   0\n",
       "Bottles and Cages      0\n",
       "Vests                  0\n",
       "Name: Sub_Category, dtype: int64"
      ]
     },
     "execution_count": 78,
     "metadata": {},
     "output_type": "execute_result"
    }
   ],
   "source": [
    "orders_bike_subcat = sales.loc[sales['Product_Category']=='Bikes', 'Sub_Category'].value_counts()\n",
    "orders_bike_subcat"
   ]
  },
  {
   "cell_type": "markdown",
   "metadata": {},
   "source": [
    "Show the results with a <b>pie plot</b>:"
   ]
  },
  {
   "cell_type": "code",
   "execution_count": 79,
   "metadata": {},
   "outputs": [
    {
     "data": {
      "text/plain": [
       "<AxesSubplot:ylabel='Sub_Category'>"
      ]
     },
     "execution_count": 79,
     "metadata": {},
     "output_type": "execute_result"
    },
    {
     "data": {
      "image/png": "[encoded data removed]",
      "text/plain": [
       "<Figure size 432x288 with 1 Axes>"
      ]
     },
     "metadata": {},
     "output_type": "display_data"
    }
   ],
   "source": [
    "orders_bike_subcat.plot(kind='pie', fig=(12,8))"
   ]
  },
  {
   "cell_type": "markdown",
   "metadata": {},
   "source": [
    "![green-divider](https://user-images.githubusercontent.com/7065401/52071924-c003ad80-2562-11e9-8297-1c6595f8a7ff.png)\n",
    "\n",
    "### Which gender has the most amount of sales?"
   ]
  },
  {
   "cell_type": "code",
   "execution_count": 80,
   "metadata": {},
   "outputs": [
    {
     "data": {
      "text/plain": [
       "M    2564\n",
       "F    2436\n",
       "Name: Customer_Gender, dtype: int64"
      ]
     },
     "execution_count": 80,
     "metadata": {},
     "output_type": "execute_result"
    }
   ],
   "source": [
    "sales['Customer_Gender'].value_counts()"
   ]
  },
  {
   "cell_type": "code",
   "execution_count": 81,
   "metadata": {},
   "outputs": [
    {
     "data": {
      "text/plain": [
       "<AxesSubplot:>"
      ]
     },
     "execution_count": 81,
     "metadata": {},
     "output_type": "execute_result"
    },
    {
     "data": {
      "image/png": "[encoded data removed]",
      "text/plain": [
       "<Figure size 432x288 with 1 Axes>"
      ]
     },
     "metadata": {
      "needs_background": "light"
     },
     "output_type": "display_data"
    }
   ],
   "source": [
    "sales['Customer_Gender'].value_counts().plot(kind='bar')"
   ]
  },
  {
   "cell_type": "markdown",
   "metadata": {},
   "source": [
    "### Which gender sold the most quantity of items"
   ]
  },
  {
   "cell_type": "code",
   "execution_count": 82,
   "metadata": {},
   "outputs": [
    {
     "data": {
      "text/html": [
       "<div><div id=70453d00-eaa3-46f3-a9e1-8d736e731c7c style=\"display:none; background-color:#9D6CFF; color:white; width:200px; height:30px; padding-left:5px; border-radius:4px; flex-direction:row; justify-content:space-around; align-items:center;\" onmouseover=\"this.style.backgroundColor='#BA9BF8'\" onmouseout=\"this.style.backgroundColor='#9D6CFF'\" onclick=\"window.commands?.execute('create-mitosheet-from-dataframe-output');\">See Full Dataframe in Mito</div> <script> if (window.commands.hasCommand('create-mitosheet-from-dataframe-output')) document.getElementById('70453d00-eaa3-46f3-a9e1-8d736e731c7c').style.display = 'flex' </script> <table border=\"1\" class=\"dataframe\">\n",
       "  <thead>\n",
       "    <tr style=\"text-align: right;\">\n",
       "      <th></th>\n",
       "      <th>Order_Quantity</th>\n",
       "    </tr>\n",
       "    <tr>\n",
       "      <th>Customer_Gender</th>\n",
       "      <th></th>\n",
       "    </tr>\n",
       "  </thead>\n",
       "  <tbody>\n",
       "    <tr>\n",
       "      <th>F</th>\n",
       "      <td>28183</td>\n",
       "    </tr>\n",
       "    <tr>\n",
       "      <th>M</th>\n",
       "      <td>30919</td>\n",
       "    </tr>\n",
       "  </tbody>\n",
       "</table></div>"
      ],
      "text/plain": [
       "                 Order_Quantity\n",
       "Customer_Gender                \n",
       "F                         28183\n",
       "M                         30919"
      ]
     },
     "execution_count": 82,
     "metadata": {},
     "output_type": "execute_result"
    }
   ],
   "source": [
    "sales[['Customer_Gender', 'Order_Quantity']].groupby('Customer_Gender').sum().sort_values(by='Order_Quantity')"
   ]
  },
  {
   "cell_type": "markdown",
   "metadata": {},
   "source": [
    "![green-divider](https://user-images.githubusercontent.com/7065401/52071924-c003ad80-2562-11e9-8297-1c6595f8a7ff.png)\n",
    "\n",
    "### How many sales with more than 500 in `Revenue` were made by men?"
   ]
  },
  {
   "cell_type": "code",
   "execution_count": 83,
   "metadata": {},
   "outputs": [
    {
     "data": {
      "text/plain": [
       "1058"
      ]
     },
     "execution_count": 83,
     "metadata": {},
     "output_type": "execute_result"
    }
   ],
   "source": [
    "sales.loc[(sales['Customer_Gender'] == 'M') & (sales['Revenue'] > 500)].shape[0]"
   ]
  },
  {
   "cell_type": "markdown",
   "metadata": {},
   "source": [
    "![green-divider](https://user-images.githubusercontent.com/7065401/52071924-c003ad80-2562-11e9-8297-1c6595f8a7ff.png)\n",
    "\n",
    "### Top-5 sales with the highest revenue"
   ]
  },
  {
   "cell_type": "code",
   "execution_count": 84,
   "metadata": {},
   "outputs": [
    {
     "data": {
      "text/html": [
       "<div><div id=f5740a95-aeca-4cdf-96d0-28e10e69f5e3 style=\"display:none; background-color:#9D6CFF; color:white; width:200px; height:30px; padding-left:5px; border-radius:4px; flex-direction:row; justify-content:space-around; align-items:center;\" onmouseover=\"this.style.backgroundColor='#BA9BF8'\" onmouseout=\"this.style.backgroundColor='#9D6CFF'\" onclick=\"window.commands?.execute('create-mitosheet-from-dataframe-output');\">See Full Dataframe in Mito</div> <script> if (window.commands.hasCommand('create-mitosheet-from-dataframe-output')) document.getElementById('f5740a95-aeca-4cdf-96d0-28e10e69f5e3').style.display = 'flex' </script> <table border=\"1\" class=\"dataframe\">\n",
       "  <thead>\n",
       "    <tr style=\"text-align: right;\">\n",
       "      <th></th>\n",
       "      <th>Product</th>\n",
       "      <th>Revenue</th>\n",
       "    </tr>\n",
       "  </thead>\n",
       "  <tbody>\n",
       "    <tr>\n",
       "      <th>743</th>\n",
       "      <td>Road-150 Red, 62</td>\n",
       "      <td>14076</td>\n",
       "    </tr>\n",
       "    <tr>\n",
       "      <th>2686</th>\n",
       "      <td>Road-150 Red, 44</td>\n",
       "      <td>14076</td>\n",
       "    </tr>\n",
       "    <tr>\n",
       "      <th>1490</th>\n",
       "      <td>Road-150 Red, 62</td>\n",
       "      <td>10677</td>\n",
       "    </tr>\n",
       "    <tr>\n",
       "      <th>3530</th>\n",
       "      <td>Road-150 Red, 62</td>\n",
       "      <td>10677</td>\n",
       "    </tr>\n",
       "    <tr>\n",
       "      <th>2076</th>\n",
       "      <td>Road-150 Red, 62</td>\n",
       "      <td>10677</td>\n",
       "    </tr>\n",
       "  </tbody>\n",
       "</table></div>"
      ],
      "text/plain": [
       "               Product  Revenue\n",
       "743   Road-150 Red, 62    14076\n",
       "2686  Road-150 Red, 44    14076\n",
       "1490  Road-150 Red, 62    10677\n",
       "3530  Road-150 Red, 62    10677\n",
       "2076  Road-150 Red, 62    10677"
      ]
     },
     "execution_count": 84,
     "metadata": {},
     "output_type": "execute_result"
    }
   ],
   "source": [
    "sales[['Product', 'Revenue']].sort_values(by='Revenue', ascending=False).head(5)"
   ]
  },
  {
   "cell_type": "markdown",
   "metadata": {},
   "source": [
    "![green-divider](https://user-images.githubusercontent.com/7065401/52071924-c003ad80-2562-11e9-8297-1c6595f8a7ff.png)\n",
    "\n",
    "### What is the mean `Order_Quantity` of orders with more than 10K in revenue?"
   ]
  },
  {
   "cell_type": "code",
   "execution_count": 85,
   "metadata": {},
   "outputs": [
    {
     "data": {
      "text/plain": [
       "Order_Quantity    3.25\n",
       "dtype: float64"
      ]
     },
     "execution_count": 85,
     "metadata": {},
     "output_type": "execute_result"
    }
   ],
   "source": [
    "rev_over_10k = sales[sales['Revenue'] > 10000]\n",
    "rev_over_10k[['Order_Quantity']].mean()"
   ]
  },
  {
   "cell_type": "markdown",
   "metadata": {},
   "source": [
    "![green-divider](https://user-images.githubusercontent.com/7065401/52071924-c003ad80-2562-11e9-8297-1c6595f8a7ff.png)\n",
    "\n",
    "### What is the mean `Order_Quantity` of orders with less than 10K in revenue?"
   ]
  },
  {
   "cell_type": "code",
   "execution_count": 86,
   "metadata": {},
   "outputs": [
    {
     "data": {
      "text/plain": [
       "Order_Quantity    11.834135\n",
       "dtype: float64"
      ]
     },
     "execution_count": 86,
     "metadata": {},
     "output_type": "execute_result"
    }
   ],
   "source": [
    "# your code goes here\n",
    "rev_lt_10k = sales[sales['Revenue'] < 10000]\n",
    "rev_lt_10k[['Order_Quantity']].mean()"
   ]
  },
  {
   "cell_type": "markdown",
   "metadata": {},
   "source": [
    "![green-divider](https://user-images.githubusercontent.com/7065401/52071924-c003ad80-2562-11e9-8297-1c6595f8a7ff.png)\n",
    "\n",
    "### How many orders were made in May of 2016?"
   ]
  },
  {
   "cell_type": "code",
   "execution_count": 87,
   "metadata": {},
   "outputs": [
    {
     "data": {
      "text/plain": [
       "214"
      ]
     },
     "execution_count": 87,
     "metadata": {},
     "output_type": "execute_result"
    }
   ],
   "source": [
    "sales[sales['YearMonth'] == '2016-May'].shape[0]"
   ]
  },
  {
   "cell_type": "markdown",
   "metadata": {},
   "source": [
    "![green-divider](https://user-images.githubusercontent.com/7065401/52071924-c003ad80-2562-11e9-8297-1c6595f8a7ff.png)\n",
    "\n",
    "### How many orders were made between May and July of 2016?"
   ]
  },
  {
   "cell_type": "code",
   "execution_count": 88,
   "metadata": {},
   "outputs": [
    {
     "data": {
      "text/plain": [
       "517"
      ]
     },
     "execution_count": 88,
     "metadata": {},
     "output_type": "execute_result"
    }
   ],
   "source": [
    "sales.loc[sales['YearMonth'].isin(['2016-May','2016-June', '2016-July'])].shape[0]"
   ]
  },
  {
   "cell_type": "markdown",
   "metadata": {},
   "source": [
    "![green-divider](https://user-images.githubusercontent.com/7065401/52071924-c003ad80-2562-11e9-8297-1c6595f8a7ff.png)\n",
    "\n",
    "### Add 7.2% TAX on every sale `Unit_Price` within United States"
   ]
  },
  {
   "cell_type": "code",
   "execution_count": 89,
   "metadata": {},
   "outputs": [
    {
     "name": "stderr",
     "output_type": "stream",
     "text": [
      "C:\\Users\\Liz Egbuchulam\\AppData\\Local\\Programs\\Python\\Python310\\lib\\site-packages\\pandas\\core\\indexing.py:1732: SettingWithCopyWarning: \n",
      "A value is trying to be set on a copy of a slice from a DataFrame\n",
      "\n",
      "See the caveats in the documentation: https://pandas.pydata.org/pandas-docs/stable/user_guide/indexing.html#returning-a-view-versus-a-copy\n",
      "  self._setitem_single_block(indexer, value, name)\n"
     ]
    }
   ],
   "source": [
    "# your code goes here\n",
    "sales['Unit_Price'].loc[sales['Country'] == 'United States'] += 0.072\n"
   ]
  },
  {
   "cell_type": "code",
   "execution_count": 90,
   "metadata": {},
   "outputs": [
    {
     "data": {
      "text/html": [
       "<div><div id=a00193d7-607f-42a4-b10a-06c7eae22292 style=\"display:none; background-color:#9D6CFF; color:white; width:200px; height:30px; padding-left:5px; border-radius:4px; flex-direction:row; justify-content:space-around; align-items:center;\" onmouseover=\"this.style.backgroundColor='#BA9BF8'\" onmouseout=\"this.style.backgroundColor='#9D6CFF'\" onclick=\"window.commands?.execute('create-mitosheet-from-dataframe-output');\">See Full Dataframe in Mito</div> <script> if (window.commands.hasCommand('create-mitosheet-from-dataframe-output')) document.getElementById('a00193d7-607f-42a4-b10a-06c7eae22292').style.display = 'flex' </script> <table border=\"1\" class=\"dataframe\">\n",
       "  <thead>\n",
       "    <tr style=\"text-align: right;\">\n",
       "      <th></th>\n",
       "      <th>Unit_Price</th>\n",
       "      <th>Country</th>\n",
       "    </tr>\n",
       "  </thead>\n",
       "  <tbody>\n",
       "    <tr>\n",
       "      <th>3962</th>\n",
       "      <td>35.072</td>\n",
       "      <td>United States</td>\n",
       "    </tr>\n",
       "    <tr>\n",
       "      <th>3902</th>\n",
       "      <td>5.072</td>\n",
       "      <td>United States</td>\n",
       "    </tr>\n",
       "    <tr>\n",
       "      <th>3886</th>\n",
       "      <td>35.000</td>\n",
       "      <td>United Kingdom</td>\n",
       "    </tr>\n",
       "    <tr>\n",
       "      <th>3888</th>\n",
       "      <td>5.000</td>\n",
       "      <td>Australia</td>\n",
       "    </tr>\n",
       "    <tr>\n",
       "      <th>1571</th>\n",
       "      <td>35.000</td>\n",
       "      <td>Canada</td>\n",
       "    </tr>\n",
       "    <tr>\n",
       "      <th>...</th>\n",
       "      <td>...</td>\n",
       "      <td>...</td>\n",
       "    </tr>\n",
       "    <tr>\n",
       "      <th>3876</th>\n",
       "      <td>540.000</td>\n",
       "      <td>Germany</td>\n",
       "    </tr>\n",
       "    <tr>\n",
       "      <th>426</th>\n",
       "      <td>540.000</td>\n",
       "      <td>Canada</td>\n",
       "    </tr>\n",
       "    <tr>\n",
       "      <th>4890</th>\n",
       "      <td>2320.072</td>\n",
       "      <td>United States</td>\n",
       "    </tr>\n",
       "    <tr>\n",
       "      <th>2322</th>\n",
       "      <td>2320.000</td>\n",
       "      <td>Australia</td>\n",
       "    </tr>\n",
       "    <tr>\n",
       "      <th>3282</th>\n",
       "      <td>2443.000</td>\n",
       "      <td>Australia</td>\n",
       "    </tr>\n",
       "  </tbody>\n",
       "</table></div>"
      ],
      "text/plain": [
       "      Unit_Price         Country\n",
       "3962      35.072   United States\n",
       "3902       5.072   United States\n",
       "3886      35.000  United Kingdom\n",
       "3888       5.000       Australia\n",
       "1571      35.000          Canada\n",
       "...          ...             ...\n",
       "3876     540.000         Germany\n",
       "426      540.000          Canada\n",
       "4890    2320.072   United States\n",
       "2322    2320.000       Australia\n",
       "3282    2443.000       Australia\n",
       "\n",
       "[5000 rows x 2 columns]"
      ]
     },
     "execution_count": 90,
     "metadata": {},
     "output_type": "execute_result"
    }
   ],
   "source": [
    "sales[['Unit_Price', 'Country']]"
   ]
  },
  {
   "cell_type": "markdown",
   "metadata": {},
   "source": [
    "![purple-divider](https://user-images.githubusercontent.com/7065401/52071927-c1cd7100-2562-11e9-908a-dde91ba14e59.png)"
   ]
  }
 ],
 "metadata": {
  "kernelspec": {
   "display_name": "Python 3",
   "language": "python",
   "name": "python3"
  },
  "language_info": {
   "codemirror_mode": {
    "name": "ipython",
    "version": 3
   },
   "file_extension": ".py",
   "mimetype": "text/x-python",
   "name": "python",
   "nbconvert_exporter": "python",
   "pygments_lexer": "ipython3",
   "version": "3.10.0"
  }
 },
 "nbformat": 4,
 "nbformat_minor": 2
}
